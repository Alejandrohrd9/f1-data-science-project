{
 "cells": [
  {
   "cell_type": "markdown",
   "metadata": {},
   "source": [
    "# Notebook para la extracción de datos"
   ]
  },
  {
   "cell_type": "markdown",
   "metadata": {},
   "source": [
    "Notebook donde se realiza la extracción de datos a través de la API Ergast y su posterior guardado en CSVs para facilitar la lectura de datos en el proyecto."
   ]
  },
  {
   "cell_type": "code",
   "execution_count": null,
   "metadata": {},
   "outputs": [],
   "source": [
    "import requests\n",
    "import csv\n",
    "import pandas as pd\n",
    "import json\n",
    "import ast"
   ]
  },
  {
   "cell_type": "markdown",
   "metadata": {},
   "source": [
    "#### Función para guardar los datos en formato CSV"
   ]
  },
  {
   "cell_type": "code",
   "execution_count": null,
   "metadata": {},
   "outputs": [],
   "source": [
    "def create_csv(data_list, filename):\n",
    "    all_keys = set()\n",
    "    for item in data_list:\n",
    "        all_keys.update(item.keys())\n",
    "    with open(f'../data/{filename}', 'w', newline='', encoding='utf-8') as output_file:\n",
    "        dict_writer = csv.DictWriter(output_file, all_keys)\n",
    "        dict_writer.writeheader()\n",
    "        dict_writer.writerows(data_list)"
   ]
  },
  {
   "cell_type": "markdown",
   "metadata": {},
   "source": [
    "#### Circuitos"
   ]
  },
  {
   "cell_type": "code",
   "execution_count": null,
   "metadata": {},
   "outputs": [],
   "source": [
    "\n",
    "def get_circuits(limit, offset):\n",
    "    results_response = requests.get(f'https://ergast.com/api/f1/circuits.json', params={\"limit\": limit, \"offset\": offset})\n",
    "    results = results_response.json()\n",
    "    return results.get(\"MRData\", {}).get(\"CircuitTable\", {}).get(\"Circuits\", [])\n",
    "\n",
    "all_results = []\n",
    "\n",
    "\n",
    "limit = 100  # Num of results per page\n",
    "offset = 0  # Results init\n",
    "\n",
    "while True:\n",
    "    results_season = get_circuits(limit, offset)\n",
    "    if not results_season:\n",
    "        break\n",
    "\n",
    "    all_results.extend(results_season)\n",
    "    offset += limit\n",
    "\n",
    "create_csv(all_results, 'circuits.csv')\n"
   ]
  },
  {
   "cell_type": "markdown",
   "metadata": {},
   "source": [
    "#### Pilotos [2000-2024]"
   ]
  },
  {
   "cell_type": "code",
   "execution_count": null,
   "metadata": {},
   "outputs": [],
   "source": [
    "\n",
    "def get_drivers(season, limit, offset):\n",
    "    results_response = requests.get(f'https://ergast.com/api/f1/{season}/drivers.json', params={\"limit\": limit, \"offset\": offset})\n",
    "    results = results_response.json()\n",
    "    return results.get(\"MRData\", {}).get(\"DriverTable\", {}).get(\"Drivers\", [])\n",
    "\n",
    "season_range = range(2000,2025)\n",
    "all_results = []\n",
    "\n",
    "for season in season_range:\n",
    "    limit = 100  # Num of results per page\n",
    "    offset = 0  # Results init\n",
    "\n",
    "    while True:\n",
    "        results_season = get_drivers(season, limit, offset)\n",
    "        if not results_season:\n",
    "            break\n",
    "\n",
    "        all_results.extend(results_season)        \n",
    "        offset += limit\n",
    "\n",
    "create_csv(all_results, 'drivers_2000-2024.csv')\n"
   ]
  },
  {
   "cell_type": "markdown",
   "metadata": {},
   "source": [
    "#### Grandes premios [2000-2024]"
   ]
  },
  {
   "cell_type": "code",
   "execution_count": null,
   "metadata": {},
   "outputs": [],
   "source": [
    "\n",
    "def get_races(season, limit, offset):\n",
    "    results_response = requests.get(f'https://ergast.com/api/f1/{season}/races.json', params={\"limit\": limit, \"offset\": offset})\n",
    "    results = results_response.json()\n",
    "    return results.get(\"MRData\", {}).get(\"RaceTable\", {}).get(\"Races\", [])\n",
    "\n",
    "season_range = range(2000,2025)\n",
    "all_results = []\n",
    "\n",
    "for season in season_range:\n",
    "    limit = 100  # Num of results per page\n",
    "    offset = 0  # Results init\n",
    "\n",
    "    while True:\n",
    "        results_season = get_races(season, limit, offset)\n",
    "        if not results_season:\n",
    "            break\n",
    "\n",
    "        all_results.extend(results_season)\n",
    "        offset += limit\n",
    "\n",
    "create_csv(all_results, 'races_2000-2024.csv')\n"
   ]
  },
  {
   "cell_type": "markdown",
   "metadata": {},
   "source": [
    "#### Resultados carreras [2000-2024]"
   ]
  },
  {
   "cell_type": "code",
   "execution_count": null,
   "metadata": {},
   "outputs": [],
   "source": [
    "\n",
    "def get_results(season, limit, offset):\n",
    "    results_response = requests.get(f'https://ergast.com/api/f1/{season}/results.json', params={\"limit\": limit, \"offset\": offset})\n",
    "    results = results_response.json()\n",
    "    return results.get(\"MRData\", {}).get(\"RaceTable\", {}).get(\"Races\", [])\n",
    "\n",
    "season_range = range(2000,2025)\n",
    "all_results = []\n",
    "\n",
    "for season in season_range:\n",
    "    limit = 100  # Num of results per page\n",
    "    offset = 0  # Results init\n",
    "\n",
    "    while True:\n",
    "        results_season = get_results(season, limit, offset)\n",
    "        if not results_season:\n",
    "            break\n",
    "\n",
    "        all_results.extend(results_season)\n",
    "        \n",
    "        offset += limit\n",
    "\n",
    "create_csv(all_results, 'results_2000-2024.csv')\n"
   ]
  },
  {
   "cell_type": "markdown",
   "metadata": {},
   "source": [
    "#### Resultados carreras formato Sprint\n",
    "Formato disponible a partir de 2021"
   ]
  },
  {
   "cell_type": "code",
   "execution_count": null,
   "metadata": {},
   "outputs": [],
   "source": [
    "def get_results(season, limit, offset):\n",
    "    results_response = requests.get(f'https://ergast.com/api/f1/{season}/sprint.json', params={\"limit\": limit, \"offset\": offset})\n",
    "    results = results_response.json()\n",
    "    return results.get(\"MRData\", {}).get(\"RaceTable\", {}).get(\"Races\", [])\n",
    "\n",
    "season_range = range(2000,2025)\n",
    "all_sprint_results = []\n",
    "\n",
    "for season in season_range:\n",
    "    limit = 100  # Num of results per page\n",
    "    offset = 0  # Results init\n",
    "\n",
    "    while True:\n",
    "        sprint_results_season = get_results(season, limit, offset)\n",
    "        if not sprint_results_season:\n",
    "            break\n",
    "\n",
    "        all_sprint_results.extend(sprint_results_season)\n",
    "        \n",
    "        offset += limit\n",
    "\n",
    "create_csv(all_sprint_results, 'sprint_results_2000-2024.csv')"
   ]
  },
  {
   "cell_type": "markdown",
   "metadata": {},
   "source": [
    "#### Grandes premios por temporada [2000-2024]"
   ]
  },
  {
   "cell_type": "code",
   "execution_count": null,
   "metadata": {},
   "outputs": [],
   "source": [
    "\n",
    "def get_seasons(season, limit, offset):\n",
    "    results_response = requests.get(f'https://ergast.com/api/f1/{season}.json', params={\"limit\": limit, \"offset\": offset})\n",
    "    results = results_response.json()\n",
    "    return results.get(\"MRData\", {}).get(\"RaceTable\", {}).get(\"Races\", [])\n",
    "\n",
    "season_range = range(2000,2025)\n",
    "all_results = []\n",
    "\n",
    "for season in season_range:\n",
    "    limit = 100  # Num of results per page\n",
    "    offset = 0  # Results init\n",
    "\n",
    "    while True:\n",
    "        circuits_season = get_seasons(season, limit, offset)\n",
    "        if not circuits_season:\n",
    "            break\n",
    "\n",
    "        all_results.extend(circuits_season)        \n",
    "        offset += limit\n",
    "\n",
    "create_csv(all_results, 'seasons_circuits_2000-2024.csv')\n"
   ]
  },
  {
   "cell_type": "markdown",
   "metadata": {},
   "source": [
    "#### Pit stops\n",
    "Tiempos disponibles a partir de 2011"
   ]
  },
  {
   "cell_type": "code",
   "execution_count": null,
   "metadata": {},
   "outputs": [],
   "source": [
    "season_range = range(2000,2025)\n",
    "\n",
    "all_pitstops = []\n",
    "def get_pitstops(season, round_number, limit, offset):\n",
    "    results_response = requests.get(f'https://ergast.com/api/f1/{season}/{round_number}/pitstops.json', params={\"limit\": limit, \"offset\": offset})\n",
    "    results = results_response.json()\n",
    "    return results.get(\"MRData\", {}).get(\"RaceTable\", {}).get(\"Races\", [])\n",
    "\n",
    "for season in season_range:\n",
    "    season_rounds_resp = requests.get(f'https://ergast.com/api/f1/{season}.json')\n",
    "\n",
    "    season_rounds = season_rounds_resp.json()\n",
    "\n",
    "    rounds_list = season_rounds.get(\"MRData\", {}).get(\"RaceTable\", {}).get(\"Races\", [])\n",
    "    for round_dict in rounds_list:\n",
    "        limit = 100  # Num of results per page\n",
    "        offset = 0  # Results init\n",
    "        while True:\n",
    "            round_number = round_dict[\"round\"]\n",
    "            pitstops = get_pitstops(season, round_number, limit, offset)\n",
    "            if not pitstops:\n",
    "                break\n",
    "            \n",
    "            all_pitstops.extend(pitstops)\n",
    "            offset += limit\n",
    "        \n",
    "create_csv(all_pitstops, 'raw_pitstops.csv')"
   ]
  },
  {
   "cell_type": "markdown",
   "metadata": {},
   "source": [
    "#### Resultados clasificaciones\n",
    "Los resultados de las clasificaciones están disponibles a partir de 2023"
   ]
  },
  {
   "cell_type": "code",
   "execution_count": null,
   "metadata": {},
   "outputs": [],
   "source": [
    "season_range = range(2003,2025)\n",
    "\n",
    "def get_qualifying_results(season, round):\n",
    "    results_response = requests.get(f'https://ergast.com/api/f1/{season}/{round}/qualifying.json')\n",
    "    results = results_response.json()\n",
    "    return results.get(\"MRData\", {}).get(\"RaceTable\", {}).get(\"Races\", [])\n",
    "\n",
    "rounds_per_season_df = pd.read_csv('../data/races_2000-2024.csv')\n",
    "all_qualifying_results = []\n",
    "for season in season_range:\n",
    "    rounds = rounds_per_season_df[rounds_per_season_df['season'] == season]['round']\n",
    "    rounds_list = rounds.tolist()\n",
    "\n",
    "    for n_round in rounds_list:\n",
    "        res = get_qualifying_results(season, n_round)\n",
    "        all_qualifying_results.extend(res)\n",
    "\n",
    "\n",
    "create_csv(all_qualifying_results, 'qualifying_results_2003-2024.csv')"
   ]
  }
 ],
 "metadata": {
  "kernelspec": {
   "display_name": ".env",
   "language": "python",
   "name": "python3"
  },
  "language_info": {
   "codemirror_mode": {
    "name": "ipython",
    "version": 3
   },
   "file_extension": ".py",
   "mimetype": "text/x-python",
   "name": "python",
   "nbconvert_exporter": "python",
   "pygments_lexer": "ipython3",
   "version": "3.12.4"
  }
 },
 "nbformat": 4,
 "nbformat_minor": 2
}
