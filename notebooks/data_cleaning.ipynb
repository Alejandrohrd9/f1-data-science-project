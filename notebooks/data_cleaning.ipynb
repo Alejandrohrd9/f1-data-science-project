{
 "cells": [
  {
   "cell_type": "code",
   "execution_count": null,
   "metadata": {},
   "outputs": [],
   "source": [
    "import pandas as pd\n",
    "import ast\n",
    "import pycountry_convert as pc"
   ]
  },
  {
   "cell_type": "markdown",
   "metadata": {},
   "source": [
    "### Race results"
   ]
  },
  {
   "cell_type": "code",
   "execution_count": null,
   "metadata": {},
   "outputs": [],
   "source": [
    "df_race_results = pd.read_csv('../data/results_2000-2024.csv')\n",
    "\n",
    "df_race_results['Results'] = df_race_results['Results'].apply(ast.literal_eval)\n",
    "\n",
    "rows = []\n",
    "results_expanded = []\n",
    "for index, row in df_race_results.iterrows():\n",
    "    results_list = row['Results']\n",
    "    for result in results_list:\n",
    "        rows.append(row.drop('Results'))\n",
    "        results_expanded.append(result)\n",
    "\n",
    "expanded_rows_df = pd.DataFrame(rows)\n",
    "results_normalized_df = pd.json_normalize(results_expanded)\n",
    "\n",
    "drivers_results_df = pd.concat([expanded_rows_df.reset_index(drop=True), results_normalized_df.reset_index(drop=True)], axis=1)\n",
    "\n",
    "drivers_results_df['points'] = pd.to_numeric(drivers_results_df['points'], errors='coerce') # convert to integer\n",
    "\n",
    "## Circuits\n",
    "drivers_results_df['Circuit'] = drivers_results_df['Circuit'].apply(ast.literal_eval)\n",
    "# print(type(drivers_results_df['Circuit'].iloc[0]))\n",
    "circuits_normalized = pd.json_normalize(drivers_results_df['Circuit'])\n",
    "\n",
    "drivers_results_df = pd.concat([drivers_results_df.drop(columns=['Circuit']), circuits_normalized],axis=1)\n",
    "\n",
    "drivers_results_df.drop(columns=['url', 'Location.lat',\t'Location.long', 'Location.locality', 'Location.country', 'Driver.url', 'Driver.permanentNumber', 'Constructor.url', 'time'], axis=1, inplace=True)\n",
    "\n",
    "drivers_results_df.rename(columns={'Driver.driverId': 'driverId', 'Driver.code': 'driverCode', 'Driver.givenName': 'driverName', 'Driver.familyName': 'driverSurname', 'Driver.dateOfBirth': 'driverBirth',\n",
    "'Driver.nationality':'driverNationality', 'Constructor.constructorId': 'constructorId', 'Constructor.name': 'constructorName', 'Constructor.nationality': 'constructorNationality', 'Time.millis': 'timeMillis', 'Time.time': 'time', 'FastestLap.rank': 'fastesLapRank',\n",
    "'FastestLap.lap': 'fastesLap', 'FastestLap.Time.time': 'fastestLapTime', 'FastestLap.AverageSpeed.speed': 'fastestLapAverageSpeed', 'FastestLap.AverageSpeed.units': 'fastestLapAverageSpeedUnit'},  inplace=True)\n",
    "\n",
    "drivers_results_df = drivers_results_df.astype({'position': 'int64', 'points': 'int64', 'grid': 'int64', 'laps': 'int64'})\n",
    "\n",
    "# Fill NA\n",
    "\n",
    "# Create CSV file\n",
    "drivers_results_df.to_csv('../data/cleaned_results_2000-2024.csv', index=False)\n"
   ]
  },
  {
   "cell_type": "markdown",
   "metadata": {},
   "source": [
    "### Seasons: Circuits"
   ]
  },
  {
   "cell_type": "code",
   "execution_count": null,
   "metadata": {},
   "outputs": [],
   "source": [
    "def get_continent_name(country_name: str) -> str:\n",
    "    country_code = pc.country_name_to_country_alpha2(country_name)\n",
    "    continent_code = pc.country_alpha2_to_continent_code(country_code)\n",
    "    continent_dict = {\n",
    "        \"NA\": \"North America\",\n",
    "        \"SA\": \"South America\",\n",
    "        \"AS\": \"Asia\",\n",
    "        \"AF\": \"Africa\",\n",
    "        \"OC\": \"Oceania\",\n",
    "        \"EU\": \"Europe\",\n",
    "        \"AQ\" : \"Antarctica\"\n",
    "    }\n",
    "    return continent_dict[continent_code]\n"
   ]
  },
  {
   "cell_type": "code",
   "execution_count": null,
   "metadata": {},
   "outputs": [],
   "source": [
    "df_seasons_circuits = pd.read_csv('../data/seasons_circuits_2000-2024.csv')\n",
    "\n",
    "df_dropped_circuits = df_seasons_circuits.drop(columns=['time', 'ThirdPractice', 'FirstPractice', 'SecondPractice', 'url', 'Sprint', 'Qualifying'])\n",
    "\n",
    "df_dropped_circuits['Circuit'] = df_dropped_circuits['Circuit'].apply(ast.literal_eval)\n",
    "\n",
    "df_flat_circuits = pd.concat(\n",
    "    [df_dropped_circuits.drop(columns=['Circuit']), pd.json_normalize(df_dropped_circuits['Circuit'])],\n",
    "    axis=1\n",
    ")\n",
    "\n",
    "df_flat_circuits.rename(columns={'Location.lat':'latitude', 'Location.long':'longitude', 'Location.locality':'locality', 'Location.country':'country'}, inplace=True)\n",
    "\n",
    "df_flat_circuits.drop(columns=['url'], inplace=True)\n",
    "# Replace some country names to make them compatible with pycountry_convert library to get continent names \n",
    "df_flat_circuits['country'] = df_flat_circuits['country'].replace({'UK': 'United Kingdom', 'USA': 'United States', 'UAE': 'United Arab Emirates', 'Korea': 'South Korea'})\n",
    "\n",
    "df_flat_circuits['continent'] = df_flat_circuits['country'].apply(get_continent_name)\n",
    "\n",
    "df_flat_circuits.head()"
   ]
  }
 ],
 "metadata": {
  "kernelspec": {
   "display_name": ".env",
   "language": "python",
   "name": "python3"
  },
  "language_info": {
   "codemirror_mode": {
    "name": "ipython",
    "version": 3
   },
   "file_extension": ".py",
   "mimetype": "text/x-python",
   "name": "python",
   "nbconvert_exporter": "python",
   "pygments_lexer": "ipython3",
   "version": "3.12.4"
  }
 },
 "nbformat": 4,
 "nbformat_minor": 2
}
