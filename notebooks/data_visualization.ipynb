{
 "cells": [
  {
   "cell_type": "code",
   "execution_count": null,
   "metadata": {},
   "outputs": [],
   "source": [
    "import seaborn as sns\n",
    "import pandas as pd\n",
    "import matplotlib.pyplot as plt\n",
    "import plotly.express as px"
   ]
  },
  {
   "cell_type": "markdown",
   "metadata": {},
   "source": [
    "### Standings"
   ]
  },
  {
   "cell_type": "code",
   "execution_count": null,
   "metadata": {},
   "outputs": [],
   "source": [
    "formatted_results = pd.read_csv('../data/race_and_sprint_results_2000-2024.csv')\n",
    "\n",
    "# Order by season, round, driverId\n",
    "formatted_results = formatted_results.sort_values(by=['season', 'round', 'driverId'])\n",
    "\n",
    "# Calculate accumulated by drivers per season\n",
    "formatted_results['cumulative_points'] = formatted_results.groupby(['season','driverId'])['points'].cumsum()\n",
    "\n",
    "# Crear el lineplot\n",
    "plt.figure(figsize=(14, 8))\n",
    "sns.lineplot(\n",
    "    data=formatted_results[formatted_results.season == 2024], \n",
    "    x='circuitId',\n",
    "    y='cumulative_points',\n",
    "    hue='driverId',\n",
    "    marker='o',\n",
    "    palette='tab20'      \n",
    ")\n",
    "# Personalizar el gráfico\n",
    "plt.title('Puntos Ganados por Piloto en Cada Carrera')\n",
    "plt.xlabel('Carrera')\n",
    "plt.ylabel('Puntos Ganados')\n",
    "plt.xticks(rotation=45, ha='right')\n",
    "plt.legend(title='Piloto', bbox_to_anchor=(1.05, 1), loc='upper left')\n",
    "plt.tight_layout()\n",
    "plt.ylim(0,425)\n",
    "plt.yticks(range(0, 425, 25))  # Intervals and jumps\n",
    "\n",
    "\n",
    "# Display plot\n",
    "plt.show()"
   ]
  },
  {
   "cell_type": "markdown",
   "metadata": {},
   "source": [
    "### Pitstops"
   ]
  },
  {
   "cell_type": "code",
   "execution_count": null,
   "metadata": {},
   "outputs": [],
   "source": [
    "pitstops_df = pd.read_csv('../data/cleaned_pitstops.csv')\n",
    "pitstops_df.head()"
   ]
  },
  {
   "cell_type": "code",
   "execution_count": null,
   "metadata": {},
   "outputs": [],
   "source": [
    "# Constructor color mapping\n",
    "constructor_color_dict = {\n",
    "    'Alfa Romeo': '#9C2D2C',      # Rojo oscuro\n",
    "    'AlphaTauri': '#1E1E1E',      # Negro\n",
    "    'Alpine F1 Team': '#0070BB',  # Azul\n",
    "    'Aston Martin': '#006F42',    # Verde oscuro\n",
    "    'Caterham': '#006747',        # Verde\n",
    "    'Ferrari': '#DC0000',         # Rojo Ferrari\n",
    "    'Force India': '#5F4B8B',     # Púrpura\n",
    "    'Haas F1 Team': '#666666',    # Gris\n",
    "    'HRT': '#F2A900',             # Naranja\n",
    "    'Lotus F1': '#1E1E1E',        # Negro\n",
    "    'Lotus': '#F4E300',           # Amarillo Lotus\n",
    "    'Manor Marussia': '#E60012',  # Rojo\n",
    "    'Marussia': '#A00000',        # Rojo oscuro\n",
    "    'McLaren': '#FF5700',         # Naranja McLaren\n",
    "    'Mercedes': '#00D2BE',        # Verde claro\n",
    "    'Racing Point': '#F9A9D5',    # Rosa\n",
    "    'RB F1 Team': '#1E41FF',      # Azul Red Bull\n",
    "    'Red Bull': '#1E41FF',        # Azul Red Bull\n",
    "    'Renault': '#FFCD00',         # Amarillo Renault\n",
    "    'Sauber': '#003A5C',          # Azul oscuro\n",
    "    'Toro Rosso': '#1E41FF',      # Azul Toro Rosso\n",
    "    'Virgin': '#E10000',          # Rojo\n",
    "    'Williams': '#0046A3'         # Azul Williams\n",
    "}"
   ]
  },
  {
   "cell_type": "code",
   "execution_count": null,
   "metadata": {},
   "outputs": [],
   "source": [
    "# Function to convert duration to seconds\n",
    "\n",
    "def duration_to_seconds(duration):\n",
    "    duration_str = str(duration)\n",
    "    if ':' in duration_str: \n",
    "        minutes, seconds_miliseconds = duration_str.split(':')\n",
    "        seconds, miliseconds = seconds_miliseconds.split('.')\n",
    "        return int(minutes) * 60 + int(seconds) + int(miliseconds) / 1000\n",
    "    else:  \n",
    "        return float(duration_str)"
   ]
  },
  {
   "cell_type": "code",
   "execution_count": null,
   "metadata": {},
   "outputs": [],
   "source": [
    "pitstops_df['duration'] = pitstops_df['duration'].apply(lambda duration: duration_to_seconds(duration))"
   ]
  },
  {
   "cell_type": "code",
   "execution_count": null,
   "metadata": {},
   "outputs": [],
   "source": [
    "# Pitstops duration 2011-2024\n",
    "# pitstops_df['duration'] = pitstops_df['duration'].astype(float)\n",
    "\n",
    "fig = px.scatter(pitstops_df[pitstops_df['duration']<50],\n",
    "                 x='date',\n",
    "                 y='duration',\n",
    "                 color='constructorName',\n",
    "                 color_discrete_map=constructor_color_dict,\n",
    "                )\n",
    "fig.show()"
   ]
  },
  {
   "cell_type": "markdown",
   "metadata": {},
   "source": [
    "##### Boxplots [All seasons]"
   ]
  },
  {
   "cell_type": "code",
   "execution_count": null,
   "metadata": {},
   "outputs": [],
   "source": [
    "\n",
    "fig = px.box(\n",
    "    pitstops_df[pitstops_df['duration']<50],\n",
    "    x='date',\n",
    "    y='duration',\n",
    "    color='constructorName',\n",
    "    color_discrete_map=constructor_color_dict,\n",
    ")\n",
    "fig.show()"
   ]
  },
  {
   "cell_type": "code",
   "execution_count": null,
   "metadata": {},
   "outputs": [],
   "source": [
    "# Pitstops duration per constructor\n",
    "\n",
    "fig = px.box(\n",
    "    pitstops_df[pitstops_df['duration']<50],\n",
    "    x='constructorName',\n",
    "    y='duration',\n",
    "    color='constructorName',\n",
    "    color_discrete_map=constructor_color_dict,\n",
    ")\n",
    "fig.show()"
   ]
  },
  {
   "cell_type": "code",
   "execution_count": null,
   "metadata": {},
   "outputs": [],
   "source": [
    "# Pitstops duration per constructor for 2024\n",
    "pitstops_2024_df = pitstops_df[pitstops_df['season'] == 2024]\n",
    "\n",
    "fig = px.box(\n",
    "    pitstops_2024_df[pitstops_2024_df['duration']<50],\n",
    "    x='constructorName',\n",
    "    y='duration',\n",
    "    color='constructorName',\n",
    "    color_discrete_map=constructor_color_dict,\n",
    ")\n",
    "fig.show()"
   ]
  },
  {
   "cell_type": "code",
   "execution_count": null,
   "metadata": {},
   "outputs": [],
   "source": [
    "# Pit stop duration per circuit\n",
    "fig = px.box(\n",
    "    pitstops_df[pitstops_df['duration']<50],\n",
    "    x='raceName',\n",
    "    y='duration'\n",
    ")\n",
    "fig.show()"
   ]
  },
  {
   "cell_type": "markdown",
   "metadata": {},
   "source": [
    "##### Histogram [All seasons]"
   ]
  },
  {
   "cell_type": "code",
   "execution_count": null,
   "metadata": {},
   "outputs": [],
   "source": [
    "# Create a histogram\n",
    "fig = px.histogram(\n",
    "    pitstops_df[pitstops_df['duration']<50], \n",
    "    x=\"duration\"\n",
    ")\n",
    "fig.show()"
   ]
  }
 ],
 "metadata": {
  "kernelspec": {
   "display_name": ".env",
   "language": "python",
   "name": "python3"
  },
  "language_info": {
   "codemirror_mode": {
    "name": "ipython",
    "version": 3
   },
   "file_extension": ".py",
   "mimetype": "text/x-python",
   "name": "python",
   "nbconvert_exporter": "python",
   "pygments_lexer": "ipython3",
   "version": "3.12.4"
  }
 },
 "nbformat": 4,
 "nbformat_minor": 2
}
