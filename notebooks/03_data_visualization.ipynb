{
 "cells": [
  {
   "cell_type": "markdown",
   "metadata": {},
   "source": [
    "# Notebook para visualizar los datos extraídos desde la API"
   ]
  },
  {
   "cell_type": "markdown",
   "metadata": {},
   "source": [
    "En este notebook se crearán diversos gráficos para visualizar los datos descargados desde la API y poder realizar una evaluación de los mismos antes de hacer cualquier representación en Streamlit, framework de Python que permite generar aplicaciones de datos interactivas."
   ]
  },
  {
   "cell_type": "markdown",
   "metadata": {},
   "source": [
    "Cargamos las librerias a usar para el manejo de datos, como pandas, y para pintar gráficos como Plotly o Seaborn"
   ]
  },
  {
   "cell_type": "code",
   "execution_count": null,
   "metadata": {},
   "outputs": [],
   "source": [
    "import seaborn as sns\n",
    "import pandas as pd\n",
    "import matplotlib.pyplot as plt\n",
    "import plotly.express as px"
   ]
  },
  {
   "cell_type": "markdown",
   "metadata": {},
   "source": [
    "#### Clasificación por pilotos\n",
    "Representación en un gráfico de líneas, con seaborn, los puntos obtenidos durante una temporada sumando los puntos de carreras y carreras formato sprint "
   ]
  },
  {
   "cell_type": "code",
   "execution_count": null,
   "metadata": {},
   "outputs": [],
   "source": [
    "# Cargar los datos de resultados en un dataframe\n",
    "formatted_results = pd.read_csv('../data/race_and_sprint_results_2000-2024.csv')\n",
    "\n",
    "# Ordenar los registros por temporada, carrera (round) y piloto\n",
    "formatted_results = formatted_results.sort_values(by=['season', 'round', 'driverId'])\n",
    "\n",
    "# Realizar la suma acumulativa de los puntos obtenidos por piloto. Para cada carrera se calculará el total te puntos obtenidos por piloto hasta esa carrera\n",
    "formatted_results['cumulative_points'] = formatted_results.groupby(['season','driverId'])['points'].cumsum()\n",
    "\n",
    "# Crear el lineplot con seaborn\n",
    "plt.figure(figsize=(14, 8))\n",
    "sns.lineplot(\n",
    "    data=formatted_results[formatted_results.season == 2024], \n",
    "    x='circuitId', # Circuitos en el eje X\n",
    "    y='cumulative_points', # Suma de puntos obtenidos en el eje Y\n",
    "    hue='driverId',\n",
    "    marker='o',\n",
    "    palette='tab20'      \n",
    ")\n",
    "\n",
    "# Personalizar el gráfico\n",
    "plt.title('Puntos Ganados por Piloto en Cada Carrera')\n",
    "plt.xlabel('Carrera')\n",
    "plt.ylabel('Puntos Ganados')\n",
    "plt.xticks(rotation=45, ha='right')\n",
    "plt.legend(title='Piloto', bbox_to_anchor=(1.05, 1), loc='upper left')\n",
    "plt.tight_layout()\n",
    "plt.ylim(0,425)\n",
    "plt.yticks(range(0, 425, 25))  # Intervalo y salto de valores en el eje y\n",
    "\n",
    "# Mostrar gráfico\n",
    "plt.show()"
   ]
  },
  {
   "cell_type": "markdown",
   "metadata": {},
   "source": [
    "#### Clasificación por constructores \n",
    "En esta sección, se prueba a crear un gráfico de barras para la visualización de constructores. Para ello, se tiene en consideración los puntos obtenidos por los pilotos que pertenecen a cada constuctor a lo largo de la temporada\n"
   ]
  },
  {
   "cell_type": "markdown",
   "metadata": {},
   "source": [
    "Definición de un diccionario para establecer un color por constructor acorde a los colores que les representa en la realidad"
   ]
  },
  {
   "cell_type": "code",
   "execution_count": null,
   "metadata": {},
   "outputs": [],
   "source": [
    "constructor_color_dict = {\n",
    "    'Alfa Romeo': '#9C2D2C',      \n",
    "    'AlphaTauri': '#1E1E1E',     \n",
    "    'Alpine F1 Team': '#0070BB', \n",
    "    'Aston Martin': '#006F42',    \n",
    "    'Caterham': '#006747',       \n",
    "    'Ferrari': '#DC0000',         \n",
    "    'Force India': '#5F4B8B',     \n",
    "    'Haas F1 Team': '#666666',   \n",
    "    'HRT': '#F2A900',              \n",
    "    'Lotus F1': '#1E1E1E',        \n",
    "    'Lotus': '#F4E300',           \n",
    "    'Manor Marussia': '#E60012',  \n",
    "    'Marussia': '#A00000',       \n",
    "    'McLaren': '#FF5700',         \n",
    "    'Mercedes': '#00D2BE',        \n",
    "    'Racing Point': '#F9A9D5',    \n",
    "    'RB F1 Team': '#1E41FF',      \n",
    "    'Red Bull': '#1E41FF',        \n",
    "    'Renault': '#FFCD00',        \n",
    "    'Sauber': '#003A5C',          \n",
    "    'Toro Rosso': '#1E41FF',      \n",
    "    'Virgin': '#E10000',          \n",
    "    'Williams': '#0046A3'         \n",
    "}"
   ]
  },
  {
   "cell_type": "code",
   "execution_count": null,
   "metadata": {},
   "outputs": [],
   "source": [
    "# Usar mismo dataframe que en el gráfico anterior pero filtrando por la temporada 2024\n",
    "formatted_results_2024 = formatted_results[formatted_results.season == 2024]\n",
    "# Crear nuevo dataframe con las columnas necesarias para crear el gráfico\n",
    "columns_for_constructos = ['season', 'constructorId', 'constructorName', 'constructorNationality', 'points', 'weekendPoints']\n",
    "filtered_constructors_df = formatted_results_2024[columns_for_constructos].copy()\n",
    "\n",
    "# Sumar los puntos a partir de agrupar las filas por el constructor y ordenamos el dataframe por los puntos de manera ascendente\n",
    "grouped_constructors_df = filtered_constructors_df.groupby(['season','constructorId', 'constructorName'])['weekendPoints'].sum().reset_index()\n",
    "ordered_constructors_df = grouped_constructors_df.sort_values(by='weekendPoints', ascending=True)\n",
    "\n",
    "fig_constructors = px.bar(\n",
    "    ordered_constructors_df, \n",
    "    x='weekendPoints', # Puntuación\n",
    "    y='constructorName', # Constructor\n",
    "    orientation='h', # Barras verticales\n",
    "    title=f'Clasificación de constructores en la temporada',\n",
    "    labels={'weekendPoints': 'Points', 'constructorName': 'Constructor'}, # Labels de las barras cuando se hace hover\n",
    "    color='constructorName',\n",
    "    color_discrete_map=constructor_color_dict # Usamos el diccioario definido con los colores de los constructores para colorear las barras\n",
    ")\n",
    "# Mostrar gráfico\n",
    "fig_constructors.show()\n"
   ]
  },
  {
   "cell_type": "markdown",
   "metadata": {},
   "source": [
    "#### Victorias"
   ]
  },
  {
   "cell_type": "markdown",
   "metadata": {},
   "source": [
    "A partir del mismo conjunto de datos, se extraen los pilotos que han quedado en primera posición durante la temporada y se realiza su representación en un gráfico circular con plotly."
   ]
  },
  {
   "cell_type": "code",
   "execution_count": null,
   "metadata": {},
   "outputs": [],
   "source": [
    "# Resultados para la temporada 2024\n",
    "race_results = formatted_results[formatted_results['season'] == 2024]\n",
    "\n",
    "# Filas con posición = 1 representa las victorias\n",
    "wins = race_results[race_results['position'] == 1]\n",
    "wins.columns"
   ]
  },
  {
   "cell_type": "code",
   "execution_count": null,
   "metadata": {},
   "outputs": [],
   "source": [
    "# Agrupar por las columnas que contienen la información del piloto y utilizar size() para obtener el número de elementos tras la agrupación\n",
    "grouped_wins = wins.groupby(['driverCode', 'driverName', 'driverSurname']).size().reset_index(name='Wins')\n",
    "grouped_wins = grouped_wins.sort_values(by='Wins', ascending=False)\n",
    "# Nueva columna con el nombre completo del piloto\n",
    "grouped_wins['driverFullName'] = grouped_wins['driverName'] + \" \" + grouped_wins['driverSurname']\n",
    "# Crear gráfico de pie\n",
    "fig = px.pie(\n",
    "    grouped_wins,\n",
    "    names='driverFullName', # Nombre de los pilotos\n",
    "    values='Wins', # Número de victorias\n",
    "    title=\"Distribución de Victorias por Piloto\",\n",
    "    hole=0.2 # Tamaño del agujero central del gráfico\n",
    ")\n",
    "# Mostrar gráfico de pie\n",
    "fig.show()"
   ]
  },
  {
   "cell_type": "markdown",
   "metadata": {},
   "source": [
    "#### Pódiums"
   ]
  },
  {
   "cell_type": "markdown",
   "metadata": {},
   "source": [
    "En esta sección se pretende realizar otro gráfico de Pie similar al de la sección de Victorias pero ahora mostrando la distribución de las posiciones de pódium para una temporada"
   ]
  },
  {
   "cell_type": "code",
   "execution_count": null,
   "metadata": {},
   "outputs": [],
   "source": [
    "# Dataframe con filas cuya posición es inferior a 4, es decir, posiciones de podium\n",
    "podiums = race_results[race_results['position'] < 4]\n",
    "\n",
    "# Agrupar por las columnas que contienen la información del piloto y utilizar size() para obtener el número de elementos tras la agrupación\n",
    "grouped_podiums = podiums.groupby(['driverCode', 'driverName', 'driverSurname']).size().reset_index(name='Podiums')\n",
    "grouped_podiums = grouped_podiums.sort_values(by='Podiums', ascending=False)\n",
    "# Nueva columna con el nombre completo del piloto\n",
    "grouped_podiums['driverFullName'] = grouped_podiums['driverName'] + \" \" + grouped_podiums['driverSurname']\n",
    "# Crear gráfico de pie\n",
    "fig = px.pie(\n",
    "    grouped_podiums,\n",
    "    names='driverFullName', # Nombre de los pilotos  \n",
    "    values='Podiums',  # Número de pódiums\n",
    "    title=\"Distribución de Pódiums por Piloto\",\n",
    "    hole=0.2 # Tamaño del agujero central del gráfico\n",
    ")\n",
    "fig.update_layout(\n",
    "    height=400\n",
    ")\n",
    "fig.show()"
   ]
  },
  {
   "cell_type": "markdown",
   "metadata": {},
   "source": [
    "#### Pitstops"
   ]
  },
  {
   "cell_type": "markdown",
   "metadata": {},
   "source": [
    "Parte experimental en la que a partir del conjunto de datos del histórico de pitstops se han realizado una serie de representaciones considerando los tiempos."
   ]
  },
  {
   "cell_type": "code",
   "execution_count": null,
   "metadata": {},
   "outputs": [],
   "source": [
    "# Cargar tiempos de pitstops en un dataframe\n",
    "pitstops_df = pd.read_csv('../data/cleaned_pitstops.csv')\n",
    "pitstops_df.head()"
   ]
  },
  {
   "cell_type": "code",
   "execution_count": null,
   "metadata": {},
   "outputs": [],
   "source": [
    "# Función para convertir los tiempos de pitstops a segundos\n",
    "def duration_to_seconds(duration):\n",
    "    duration_str = str(duration)\n",
    "    if ':' in duration_str: \n",
    "        minutes, seconds_miliseconds = duration_str.split(':')\n",
    "        seconds, miliseconds = seconds_miliseconds.split('.')\n",
    "        return int(minutes) * 60 + int(seconds) + int(miliseconds) / 1000\n",
    "    else:  \n",
    "        return float(duration_str)"
   ]
  },
  {
   "cell_type": "code",
   "execution_count": null,
   "metadata": {},
   "outputs": [],
   "source": [
    "# Realizar conversión\n",
    "pitstops_df['duration'] = pitstops_df['duration'].apply(lambda duration: duration_to_seconds(duration))"
   ]
  },
  {
   "cell_type": "markdown",
   "metadata": {},
   "source": [
    "Duración de los pitstops entre la temporada 2011 y 2024. Cogemos todos los registros con duración inferior a 50 segundos, ya que todo lo que supere ese valor no son tiempos razonables y pueden deberse a circunstancias anormales."
   ]
  },
  {
   "cell_type": "markdown",
   "metadata": {},
   "source": [
    "Gráfico de dispersión de los pitstops. En el eje X la temporada y en el eje Y la duración. Los colores de los puntos dependen del constructor."
   ]
  },
  {
   "cell_type": "code",
   "execution_count": null,
   "metadata": {},
   "outputs": [],
   "source": [
    "fig = px.scatter(pitstops_df[pitstops_df['duration']<50],\n",
    "                 x='date',\n",
    "                 y='duration',\n",
    "                 color='constructorName',\n",
    "                 color_discrete_map=constructor_color_dict,\n",
    "                )\n",
    "fig.show()"
   ]
  },
  {
   "cell_type": "markdown",
   "metadata": {},
   "source": [
    "Gráfico de cajas que muestra la distribución de los tiempos de pitstop por constructor para la temporada 2024"
   ]
  },
  {
   "cell_type": "code",
   "execution_count": null,
   "metadata": {},
   "outputs": [],
   "source": [
    "pitstops_2024_df = pitstops_df[pitstops_df['season'] == 2024]\n",
    "\n",
    "fig = px.box(\n",
    "    pitstops_2024_df[pitstops_2024_df['duration']<50],\n",
    "    x='constructorName',\n",
    "    y='duration',\n",
    "    color='constructorName',\n",
    "    color_discrete_map=constructor_color_dict,\n",
    ")\n",
    "fig.show()"
   ]
  },
  {
   "cell_type": "markdown",
   "metadata": {},
   "source": [
    "Gráfico de cajas que muestra la distribución de los tiempos de pitstop por circuito para la temporada 2024"
   ]
  },
  {
   "cell_type": "code",
   "execution_count": null,
   "metadata": {},
   "outputs": [],
   "source": [
    "# Pit stop duration per circuit\n",
    "fig = px.box(\n",
    "    pitstops_df[pitstops_df['duration']<50],\n",
    "    x='raceName',\n",
    "    y='duration'\n",
    ")\n",
    "fig.show()"
   ]
  },
  {
   "cell_type": "markdown",
   "metadata": {},
   "source": [
    "Histograma que muestra la distribución de los tiempos de pitstops en segundos"
   ]
  },
  {
   "cell_type": "code",
   "execution_count": null,
   "metadata": {},
   "outputs": [],
   "source": [
    "fig = px.histogram(\n",
    "    pitstops_df[pitstops_df['duration']<50], \n",
    "    x=\"duration\"\n",
    ")\n",
    "fig.show()"
   ]
  }
 ],
 "metadata": {
  "kernelspec": {
   "display_name": ".env",
   "language": "python",
   "name": "python3"
  },
  "language_info": {
   "codemirror_mode": {
    "name": "ipython",
    "version": 3
   },
   "file_extension": ".py",
   "mimetype": "text/x-python",
   "name": "python",
   "nbconvert_exporter": "python",
   "pygments_lexer": "ipython3",
   "version": "3.12.4"
  }
 },
 "nbformat": 4,
 "nbformat_minor": 2
}
