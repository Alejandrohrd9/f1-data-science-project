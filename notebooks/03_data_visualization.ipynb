{
 "cells": [
  {
   "cell_type": "markdown",
   "metadata": {},
   "source": [
    "# Notebook para visualizar el conjunto de datos"
   ]
  },
  {
   "cell_type": "markdown",
   "metadata": {},
   "source": [
    "Notebook utilizado para hacer representaciones gráficas de lo datos antes de crearlos en streamlit"
   ]
  },
  {
   "cell_type": "code",
   "execution_count": null,
   "metadata": {},
   "outputs": [],
   "source": [
    "import seaborn as sns\n",
    "import pandas as pd\n",
    "import matplotlib.pyplot as plt\n",
    "import plotly.express as px"
   ]
  },
  {
   "cell_type": "markdown",
   "metadata": {},
   "source": [
    "#### Clasificaciones\n",
    "Representación en un gráfico de líneas los puntos obtenidos durante una temporada sumando los puntos de carreras y carreras formato sprint "
   ]
  },
  {
   "cell_type": "code",
   "execution_count": null,
   "metadata": {},
   "outputs": [],
   "source": [
    "formatted_results = pd.read_csv('../data/race_and_sprint_results_2000-2024.csv')\n",
    "\n",
    "# Order by season, round, driverId\n",
    "formatted_results = formatted_results.sort_values(by=['season', 'round', 'driverId'])\n",
    "\n",
    "# Calculate accumulated by drivers per season\n",
    "formatted_results['cumulative_points'] = formatted_results.groupby(['season','driverId'])['points'].cumsum()\n",
    "\n",
    "# Crear el lineplot\n",
    "plt.figure(figsize=(14, 8))\n",
    "sns.lineplot(\n",
    "    data=formatted_results[formatted_results.season == 2024], \n",
    "    x='circuitId',\n",
    "    y='cumulative_points',\n",
    "    hue='driverId',\n",
    "    marker='o',\n",
    "    palette='tab20'      \n",
    ")\n",
    "# Personalizar el gráfico\n",
    "plt.title('Puntos Ganados por Piloto en Cada Carrera')\n",
    "plt.xlabel('Carrera')\n",
    "plt.ylabel('Puntos Ganados')\n",
    "plt.xticks(rotation=45, ha='right')\n",
    "plt.legend(title='Piloto', bbox_to_anchor=(1.05, 1), loc='upper left')\n",
    "plt.tight_layout()\n",
    "plt.ylim(0,425)\n",
    "plt.yticks(range(0, 425, 25))  # Intervals and jumps\n",
    "\n",
    "\n",
    "# Display plot\n",
    "plt.show()"
   ]
  },
  {
   "cell_type": "markdown",
   "metadata": {},
   "source": [
    "Definición de un diccionario para establecer un color por constructor acorde a los colores que les representa en la realidad"
   ]
  },
  {
   "cell_type": "code",
   "execution_count": null,
   "metadata": {},
   "outputs": [],
   "source": [
    "constructor_color_dict = {\n",
    "    'Alfa Romeo': '#9C2D2C',      \n",
    "    'AlphaTauri': '#1E1E1E',     \n",
    "    'Alpine F1 Team': '#0070BB', \n",
    "    'Aston Martin': '#006F42',    \n",
    "    'Caterham': '#006747',       \n",
    "    'Ferrari': '#DC0000',         \n",
    "    'Force India': '#5F4B8B',     \n",
    "    'Haas F1 Team': '#666666',   \n",
    "    'HRT': '#F2A900',              \n",
    "    'Lotus F1': '#1E1E1E',        \n",
    "    'Lotus': '#F4E300',           \n",
    "    'Manor Marussia': '#E60012',  \n",
    "    'Marussia': '#A00000',       \n",
    "    'McLaren': '#FF5700',         \n",
    "    'Mercedes': '#00D2BE',        \n",
    "    'Racing Point': '#F9A9D5',    \n",
    "    'RB F1 Team': '#1E41FF',      \n",
    "    'Red Bull': '#1E41FF',        \n",
    "    'Renault': '#FFCD00',        \n",
    "    'Sauber': '#003A5C',          \n",
    "    'Toro Rosso': '#1E41FF',      \n",
    "    'Virgin': '#E10000',          \n",
    "    'Williams': '#0046A3'         \n",
    "}"
   ]
  },
  {
   "cell_type": "markdown",
   "metadata": {},
   "source": [
    "#### Clasificación de constructores para la misma temporada del gráfico anterior\n",
    "Consiste en agrupar el conjunto de datos donde tenemos las puntuaciones por el constructor y sumar los puntos obtenidos por los pilotos pertenecientes a cada constructor. Se hace una representación en un gráfico de barras.\n"
   ]
  },
  {
   "cell_type": "code",
   "execution_count": null,
   "metadata": {},
   "outputs": [],
   "source": [
    "formatted_results_2024 = formatted_results[formatted_results.season == 2024]\n",
    "columns_for_constructos = ['season', 'constructorId', 'constructorName', 'constructorNationality', 'points', 'weekendPoints']\n",
    "filtered_constructors_df = formatted_results_2024[columns_for_constructos].copy()\n",
    "\n",
    "grouped_constructors_df = filtered_constructors_df.groupby(['season','constructorId', 'constructorName'])['weekendPoints'].sum().reset_index()\n",
    "ordered_constructors_df = grouped_constructors_df.sort_values(by='weekendPoints', ascending=True)\n",
    "\n",
    "ferrari = ordered_constructors_df[ordered_constructors_df['constructorName'] == 'Sauber']\n",
    "constructor = ferrari['constructorName'].values[0]\n",
    "fig_constructors = px.bar(\n",
    "    ordered_constructors_df, \n",
    "    x='weekendPoints', \n",
    "    y='constructorName', \n",
    "    orientation='h',\n",
    "    title=f'Clasificación de constructores en la temporada',\n",
    "    labels={'weekendPoints': 'Points', 'constructorName': 'Constructor'},\n",
    "    color='constructorName',\n",
    "    color_discrete_map=constructor_color_dict\n",
    ")\n",
    "fig_constructors.show()\n"
   ]
  },
  {
   "cell_type": "markdown",
   "metadata": {},
   "source": [
    "#### Victorias"
   ]
  },
  {
   "cell_type": "markdown",
   "metadata": {},
   "source": [
    "A partir del mismo conjunto de datos, se extraen los pilotos que han quedado en primera posición durante la temporada y se realiza su representación en un gráfico circular"
   ]
  },
  {
   "cell_type": "code",
   "execution_count": null,
   "metadata": {},
   "outputs": [],
   "source": [
    "race_results = formatted_results[formatted_results['season'] == 2024]\n",
    "\n",
    "wins = race_results[race_results['position'] == 1]\n",
    "wins.columns"
   ]
  },
  {
   "cell_type": "code",
   "execution_count": null,
   "metadata": {},
   "outputs": [],
   "source": [
    "grouped_wins = wins.groupby(['driverCode', 'driverName', 'driverSurname']).size().reset_index(name='Wins')\n",
    "grouped_wins = grouped_wins.sort_values(by='Wins', ascending=False)\n",
    "grouped_wins['driverFullName'] = grouped_wins['driverName'] + \" \" + grouped_wins['driverSurname']\n",
    "fig = px.pie(\n",
    "    grouped_wins,\n",
    "    names='driverFullName',\n",
    "    values='Wins',\n",
    "    title=\"Distribución de Victorias por Piloto\",\n",
    "    hole=0.2\n",
    ")\n",
    "\n",
    "fig.show()"
   ]
  },
  {
   "cell_type": "markdown",
   "metadata": {},
   "source": [
    "#### Podiums"
   ]
  },
  {
   "cell_type": "markdown",
   "metadata": {},
   "source": [
    "Sobre el mismo conjunto de datos, se genera un dataframe con las filas cuya posición es inferior a 4, obteniendo así los pilotos que han subido al podium a lo largo de la temporada en los diferentes grandes premios. Se hace una representación en un gráfico circular."
   ]
  },
  {
   "cell_type": "code",
   "execution_count": null,
   "metadata": {},
   "outputs": [],
   "source": [
    "podiums = race_results[race_results['position'] < 4]\n",
    "\n",
    "grouped_podiums = podiums.groupby(['driverCode', 'driverName', 'driverSurname']).size().reset_index(name='Podiums')\n",
    "grouped_podiums = grouped_podiums.sort_values(by='Podiums', ascending=False)\n",
    "grouped_podiums['driverFullName'] = grouped_podiums['driverName'] + \" \" + grouped_podiums['driverSurname']\n",
    "fig = px.pie(\n",
    "    grouped_podiums,\n",
    "    names='driverFullName',  \n",
    "    values='Podiums',  \n",
    "    title=\"Distribución de Podiums por Piloto\",\n",
    "    hole=0.2\n",
    ")\n",
    "fig.update_layout(\n",
    "    height=400\n",
    ")\n",
    "fig.show()"
   ]
  },
  {
   "cell_type": "markdown",
   "metadata": {},
   "source": [
    "#### Pitstops"
   ]
  },
  {
   "cell_type": "markdown",
   "metadata": {},
   "source": [
    "Parte experimental en la que a partir del conjunto de datos del histórico de pitstops se han realizado una serie de representaciones considerando los tiempos."
   ]
  },
  {
   "cell_type": "code",
   "execution_count": null,
   "metadata": {},
   "outputs": [],
   "source": [
    "pitstops_df = pd.read_csv('../data/cleaned_pitstops.csv')\n",
    "pitstops_df.head()"
   ]
  },
  {
   "cell_type": "code",
   "execution_count": null,
   "metadata": {},
   "outputs": [],
   "source": [
    "# Function to convert duration to seconds\n",
    "\n",
    "def duration_to_seconds(duration):\n",
    "    duration_str = str(duration)\n",
    "    if ':' in duration_str: \n",
    "        minutes, seconds_miliseconds = duration_str.split(':')\n",
    "        seconds, miliseconds = seconds_miliseconds.split('.')\n",
    "        return int(minutes) * 60 + int(seconds) + int(miliseconds) / 1000\n",
    "    else:  \n",
    "        return float(duration_str)"
   ]
  },
  {
   "cell_type": "code",
   "execution_count": null,
   "metadata": {},
   "outputs": [],
   "source": [
    "pitstops_df['duration'] = pitstops_df['duration'].apply(lambda duration: duration_to_seconds(duration))"
   ]
  },
  {
   "cell_type": "code",
   "execution_count": null,
   "metadata": {},
   "outputs": [],
   "source": [
    "pitstops_df['duration_seconds'] = pitstops_df['duration'].dt.total_seconds()"
   ]
  },
  {
   "cell_type": "code",
   "execution_count": null,
   "metadata": {},
   "outputs": [],
   "source": [
    "# Pitstops duration 2011-2024\n",
    "# pitstops_df['duration'] = pitstops_df['duration'].astype(float)\n",
    "\n",
    "fig = px.scatter(pitstops_df[pitstops_df['duration']<50],\n",
    "                 x='date',\n",
    "                 y='duration',\n",
    "                 color='constructorName',\n",
    "                 color_discrete_map=constructor_color_dict,\n",
    "                )\n",
    "fig.show()"
   ]
  },
  {
   "cell_type": "markdown",
   "metadata": {},
   "source": [
    "##### Boxplots [All seasons]"
   ]
  },
  {
   "cell_type": "code",
   "execution_count": null,
   "metadata": {},
   "outputs": [],
   "source": [
    "\n",
    "fig = px.box(\n",
    "    pitstops_df[pitstops_df['duration']<50],\n",
    "    x='date',\n",
    "    y='duration',\n",
    "    color='constructorName',\n",
    "    color_discrete_map=constructor_color_dict,\n",
    ")\n",
    "fig.show()"
   ]
  },
  {
   "cell_type": "code",
   "execution_count": null,
   "metadata": {},
   "outputs": [],
   "source": [
    "# Pitstops duration per constructor\n",
    "\n",
    "fig = px.box(\n",
    "    pitstops_df[pitstops_df['duration']<50],\n",
    "    x='constructorName',\n",
    "    y='duration',\n",
    "    color='constructorName',\n",
    "    color_discrete_map=constructor_color_dict,\n",
    ")\n",
    "fig.show()"
   ]
  },
  {
   "cell_type": "code",
   "execution_count": null,
   "metadata": {},
   "outputs": [],
   "source": [
    "# Pitstops duration per constructor for 2024\n",
    "pitstops_2024_df = pitstops_df[pitstops_df['season'] == 2024]\n",
    "\n",
    "fig = px.box(\n",
    "    pitstops_2024_df[pitstops_2024_df['duration']<50],\n",
    "    x='constructorName',\n",
    "    y='duration',\n",
    "    color='constructorName',\n",
    "    color_discrete_map=constructor_color_dict,\n",
    ")\n",
    "fig.show()"
   ]
  },
  {
   "cell_type": "code",
   "execution_count": null,
   "metadata": {},
   "outputs": [],
   "source": [
    "# Pit stop duration per circuit\n",
    "fig = px.box(\n",
    "    pitstops_df[pitstops_df['duration']<50],\n",
    "    x='raceName',\n",
    "    y='duration'\n",
    ")\n",
    "fig.show()"
   ]
  },
  {
   "cell_type": "markdown",
   "metadata": {},
   "source": [
    "##### Histogram [All seasons]"
   ]
  },
  {
   "cell_type": "code",
   "execution_count": null,
   "metadata": {},
   "outputs": [],
   "source": [
    "# Create a histogram\n",
    "fig = px.histogram(\n",
    "    pitstops_df[pitstops_df['duration']<50], \n",
    "    x=\"duration\"\n",
    ")\n",
    "fig.show()"
   ]
  }
 ],
 "metadata": {
  "kernelspec": {
   "display_name": ".env",
   "language": "python",
   "name": "python3"
  },
  "language_info": {
   "codemirror_mode": {
    "name": "ipython",
    "version": 3
   },
   "file_extension": ".py",
   "mimetype": "text/x-python",
   "name": "python",
   "nbconvert_exporter": "python",
   "pygments_lexer": "ipython3",
   "version": "3.12.4"
  }
 },
 "nbformat": 4,
 "nbformat_minor": 2
}
