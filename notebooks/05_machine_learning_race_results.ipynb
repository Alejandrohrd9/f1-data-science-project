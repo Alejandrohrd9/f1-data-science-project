{
 "cells": [
  {
   "cell_type": "markdown",
   "metadata": {},
   "source": [
    "# Notebook machine learning\n",
    "Entrenamiento de modelos de Regresión Lineal y Random Forest para predecir la velocidad media de la vuelta rápida a partir del tiempo de vuelta"
   ]
  },
  {
   "cell_type": "markdown",
   "metadata": {},
   "source": [
    "Importamos bibliotecas necesarias\n"
   ]
  },
  {
   "cell_type": "code",
   "execution_count": null,
   "metadata": {},
   "outputs": [],
   "source": [
    "import requests\n",
    "import csv\n",
    "import pandas as pd\n",
    "import json\n",
    "import ast\n",
    "import numpy as np\n",
    "import matplotlib.pyplot as plt\n",
    "import seaborn as sns\n",
    "# Scikit-Learn \n",
    "from sklearn.linear_model import LinearRegression\n",
    "from sklearn.ensemble import RandomForestRegressor\n",
    "from sklearn.metrics import root_mean_squared_error\n",
    "from sklearn.metrics import mean_squared_error\n",
    "from sklearn.preprocessing import MinMaxScaler\n",
    "from sklearn.preprocessing import OneHotEncoder\n",
    "from sklearn import metrics\n"
   ]
  },
  {
   "cell_type": "markdown",
   "metadata": {},
   "source": [
    "Función para convertir los tiempos de vuelta con formato mm:ss.ffff a segundos"
   ]
  },
  {
   "cell_type": "code",
   "execution_count": null,
   "metadata": {},
   "outputs": [],
   "source": [
    "\n",
    "def duration_to_seconds(duration):\n",
    "    duration_str = str(duration)\n",
    "    if ':' in duration_str: \n",
    "        minutes, seconds_miliseconds = duration_str.split(':')\n",
    "        seconds, miliseconds = seconds_miliseconds.split('.')\n",
    "        return int(minutes) * 60 + int(seconds) + int(miliseconds) / 1000\n",
    "    else:  \n",
    "        return float(duration_str)"
   ]
  },
  {
   "cell_type": "markdown",
   "metadata": {},
   "source": [
    "#### Carga de datos y limpieza"
   ]
  },
  {
   "cell_type": "code",
   "execution_count": null,
   "metadata": {},
   "outputs": [],
   "source": [
    "raw_races_df = pd.read_csv('../data/results_2000-2024.csv')\n",
    "raw_races_df.head()"
   ]
  },
  {
   "cell_type": "markdown",
   "metadata": {},
   "source": [
    "Una vez cargado el CSV en un dataframe, se procede a convertir las columnas Results y Circuit a estructuras de Python. <br />\n",
    "Primero, se expande la columna Results, creando una lista llamada rows que contiene los datos generales de las carreras por cada participante, sin la columna Results, y otra lista results_expanded con la información de cada participante, es decir, el contenido de la columna Results. El objetivo es tener una fila por cada participante. <br />\n",
    "Una vez terminado los bucles, se convierten las listas a dataframes, aplanando las estructuras anidadas en results_expanded mediante json_normalize. <br />\n",
    "Se genera un nuevo dataframe a partir de la concatenación de los dos dataframes anteriores, obteniendo una fila por cada participante con su información así como información de la carrera. <br />\n",
    "Por último, se normaliza la columna Circuit que también contiene una estructura anidada.\n"
   ]
  },
  {
   "cell_type": "code",
   "execution_count": null,
   "metadata": {},
   "outputs": [],
   "source": [
    "raw_races_df['Results'] = raw_races_df['Results'].apply(ast.literal_eval)\n",
    "raw_races_df['Circuit'] = raw_races_df['Circuit'].apply(ast.literal_eval)\n",
    "\n",
    "\n",
    "rows = []\n",
    "results_expanded = []\n",
    "for index, row in raw_races_df.iterrows():\n",
    "    for result in row['Results']:\n",
    "        rows.append(row.drop('Results')) \n",
    "        results_expanded.append(result)  \n",
    "\n",
    "expanded_rows_df = pd.DataFrame(rows)\n",
    "results_normalized_df = pd.json_normalize(results_expanded) # Se normaliza columna Results\n",
    "race_results_df = pd.concat([expanded_rows_df.reset_index(drop=True), results_normalized_df.reset_index(drop=True)], axis=1) # Se añade la columna Results normalizadas al dataframe donde se contiene la información de carrera\n",
    "\n",
    "circuits_normalized = pd.json_normalize(race_results_df['Circuit']) # Se normaliza columna Circuit\n",
    "race_results_df = pd.concat([race_results_df.drop(columns=['Circuit']), circuits_normalized],axis=1) # Se añaden la columna Circuit normalizada al dataframe\n",
    "\n",
    "race_results_df.head()"
   ]
  },
  {
   "cell_type": "code",
   "execution_count": null,
   "metadata": {},
   "outputs": [],
   "source": [
    "race_results_df.columns"
   ]
  },
  {
   "cell_type": "markdown",
   "metadata": {},
   "source": [
    "Borramos columnas innecesarias"
   ]
  },
  {
   "cell_type": "code",
   "execution_count": null,
   "metadata": {},
   "outputs": [],
   "source": [
    "modified_race_results_df = race_results_df.drop(columns=['url', 'time', 'Location.country', 'Location.lat', 'Location.long', 'url', 'Driver.permanentNumber', 'Constructor.nationality', 'Constructor.constructorId', 'Constructor.url', 'circuitId', 'Location.locality', 'positionText', 'points', 'Driver.nationality', 'Driver.dateOfBirth', 'Time.time', 'Time.millis', 'Driver.url', 'Driver.driverId', 'Driver.code'])\n",
    "modified_race_results_df[modified_race_results_df['season'] == 2024].tail()"
   ]
  },
  {
   "cell_type": "markdown",
   "metadata": {},
   "source": [
    "Renombramos las variables que vamos a usar en el modelo y creamos una nueva columna que contenga el tiempo de vuelta en segundos mediante la función duration_to_seconds que se creó al principio del notebook."
   ]
  },
  {
   "cell_type": "code",
   "execution_count": null,
   "metadata": {},
   "outputs": [],
   "source": [
    "renamed_race_results_df = modified_race_results_df.rename(columns= {'FastestLap.Time.time': 'FastestLapTime', 'FastestLap.AverageSpeed.speed': 'FastestLapAvgSpeed'})\n",
    "renamed_race_results_df['FastestLapTimeSeconds'] = renamed_race_results_df['FastestLapTime'].apply(lambda duration: duration_to_seconds(duration))\n",
    "renamed_race_results_df.head()"
   ]
  },
  {
   "cell_type": "markdown",
   "metadata": {},
   "source": [
    "Comprobamos cuantos valores NaN contiene el dataframe"
   ]
  },
  {
   "cell_type": "code",
   "execution_count": null,
   "metadata": {},
   "outputs": [],
   "source": [
    "print(\"Valores NA:\")\n",
    "print(renamed_race_results_df.isna().sum())"
   ]
  },
  {
   "cell_type": "markdown",
   "metadata": {},
   "source": [
    "Convertimos columnas a variables numéricas"
   ]
  },
  {
   "cell_type": "code",
   "execution_count": null,
   "metadata": {},
   "outputs": [],
   "source": [
    "renamed_race_results_df['FastestLapAvgSpeed'] = pd.to_numeric(renamed_race_results_df['FastestLapAvgSpeed'], errors='coerce')\n",
    "renamed_race_results_df['grid'] = renamed_race_results_df['grid'].astype(str).astype(int)\n",
    "renamed_race_results_df['position'] = renamed_race_results_df['position'].astype(str).astype(int)\n",
    "renamed_race_results_df.dtypes"
   ]
  },
  {
   "cell_type": "markdown",
   "metadata": {},
   "source": [
    "Borramos registros con valores NaN"
   ]
  },
  {
   "cell_type": "code",
   "execution_count": null,
   "metadata": {},
   "outputs": [],
   "source": [
    "renamed_race_results_df = renamed_race_results_df.dropna()"
   ]
  },
  {
   "cell_type": "markdown",
   "metadata": {},
   "source": [
    "Pintamos matriz de correlación para conocer las relaciones entre las distintas columnas numéricas que disponemos en el dataframe"
   ]
  },
  {
   "cell_type": "code",
   "execution_count": null,
   "metadata": {},
   "outputs": [],
   "source": [
    "speed_corr = renamed_race_results_df.corr(numeric_only=True)\n",
    "\n",
    "fig, ax = plt.subplots(figsize=(12, 10))\n",
    "\n",
    "sns.heatmap(speed_corr, annot=True, fmt=\".2f\")"
   ]
  },
  {
   "cell_type": "markdown",
   "metadata": {},
   "source": [
    "#### Fastest Lap vs Fastest Lap Avg Speed - Linear Regression"
   ]
  },
  {
   "cell_type": "code",
   "execution_count": null,
   "metadata": {},
   "outputs": [],
   "source": [
    "train = renamed_race_results_df[(renamed_race_results_df['season'] >= 2014) & (renamed_race_results_df['season'] <= 2021)]\n",
    "test = renamed_race_results_df[(renamed_race_results_df['season'] >= 2022) & (renamed_race_results_df['season'] <= 2023)]\n",
    "\n",
    "\n",
    "# for position in train['q1_position'].unique():\n",
    "# train = train[train['q1_position'] == 15]\n",
    "# test = test[test['q1_position'] == 15]\n",
    "\n",
    "# Configurar X (Año) y y (Tiempo)\n",
    "X_train = train[['FastestLapTimeSeconds']].values\n",
    "y_train = train['FastestLapAvgSpeed'].values\n",
    "X_test = test[['FastestLapTimeSeconds']].values\n",
    "y_test = test['FastestLapAvgSpeed'].values\n",
    "\n",
    "# Escalados\n",
    "# x_tr_s = scaler.fit_transform(X_train)\n",
    "# x_test_s = scaler.fit_transform(X_test)\n",
    "x_tr_s = X_train\n",
    "x_test_s = X_test\n",
    "\n",
    "y_tr_s = y_train\n",
    "y_test_s = y_test\n",
    "\n",
    "# Entrenar el modelo de regresión lineal\n",
    "regr = LinearRegression()\n",
    "regr.fit(x_tr_s, y_tr_s)\n",
    "\n",
    "# Hacer predicciones sobre el conjunto de test \n",
    "y_pred = regr.predict(x_test_s)\n",
    "\n",
    "print(f'Intercept: {regr.intercept_.round(2)}')\n",
    "print(f'Coef: {regr.coef_.round(2)}')\n",
    "print(f'RMSE: {root_mean_squared_error(y_test, y_pred)}') # Round is giving me an error here\n",
    "\n",
    "fig, ax = plt.subplots(1, 2, figsize=(10, 10), sharey=True)\n",
    "ax[0].scatter(x_tr_s, y_tr_s)\n",
    "ax[0].plot(x_tr_s, regr.predict(x_tr_s), c='g')\n",
    "ax[0].set_title('Fastest Lap vs Fastest Speed (Train)')\n",
    "ax[0].set_xlabel('FastestLapTimeSeconds')\n",
    "ax[0].set_ylabel('FastestLapAvgSpeed')\n",
    "\n",
    "ax[1].scatter(x_test_s, y_test_s)\n",
    "ax[1].plot(x_tr_s, regr.predict(x_tr_s), c='g')\n",
    "ax[1].set_title('Fastest Lap vs Fastest Speed (Test)')\n",
    "ax[1].set_xlabel('FastestLapTimeSeconds')\n",
    "ax[1].set_ylabel('FastestLapAvgSpeed')\n",
    "plt.suptitle('Linear Regression Model')\n",
    "\n",
    "# Pintar y_pred vs y_test_s\n",
    "\n"
   ]
  },
  {
   "cell_type": "markdown",
   "metadata": {},
   "source": [
    "Borrado de columnas innecesarias"
   ]
  },
  {
   "cell_type": "code",
   "execution_count": null,
   "metadata": {},
   "outputs": [],
   "source": [
    "tmp_renamed_race_results_df = renamed_race_results_df.drop(columns=['raceName', 'round', 'date', 'number', 'laps', 'status', 'Driver.givenName', 'Driver.familyName', 'Constructor.name', 'FastestLap.rank', 'FastestLap.lap', 'FastestLapTime', 'FastestLap.AverageSpeed.units'])\n",
    "tmp_renamed_race_results_df.tail()"
   ]
  },
  {
   "cell_type": "markdown",
   "metadata": {},
   "source": [
    "Comprobamos que no hayan valores nulos"
   ]
  },
  {
   "cell_type": "code",
   "execution_count": null,
   "metadata": {},
   "outputs": [],
   "source": [
    "print(tmp_renamed_race_results_df.isna().sum())\n"
   ]
  },
  {
   "cell_type": "markdown",
   "metadata": {},
   "source": [
    "Generamos una copia del dataframe modificado, y este será el dataframe a usar en los modelos"
   ]
  },
  {
   "cell_type": "code",
   "execution_count": null,
   "metadata": {},
   "outputs": [],
   "source": [
    "final_race_results_df = tmp_renamed_race_results_df.copy()"
   ]
  },
  {
   "cell_type": "code",
   "execution_count": null,
   "metadata": {},
   "outputs": [],
   "source": [
    "from sklearn.linear_model import LinearRegression\n",
    "from sklearn.metrics import mean_squared_error\n",
    "import numpy as np\n",
    "import matplotlib.pyplot as plt\n",
    "\n",
    "enc = OneHotEncoder(sparse_output=False)\n",
    "one_hot_encoded = enc.fit_transform(final_race_results_df[['circuitName']])\n",
    "one_hot_df = pd.DataFrame(one_hot_encoded, columns=enc.get_feature_names_out(['circuitName']))\n",
    "\n",
    "# Check indexes\n",
    "one_hot_df.index = final_race_results_df.index\n",
    "encoded_renamed_race_results_df = pd.concat([final_race_results_df, one_hot_df], axis=1)\n",
    "\n",
    "# Dividir los datos en entrenamiento y prueba\n",
    "train_2014_2021 = encoded_renamed_race_results_df[(encoded_renamed_race_results_df['season'] >= 2014) & (encoded_renamed_race_results_df['season'] <= 2021)]\n",
    "test_2022_2023 = encoded_renamed_race_results_df[(encoded_renamed_race_results_df['season'] >= 2022) & (encoded_renamed_race_results_df['season'] <= 2023)]\n",
    "\n",
    "train = train_2014_2021.drop(columns=['circuitName'])\n",
    "test = test_2022_2023.drop(columns=['circuitName'])\n",
    "\n",
    "X_train = train.drop(columns=['FastestLapAvgSpeed']).values\n",
    "y_train = train['FastestLapAvgSpeed'].values\n",
    "X_test = test.drop(columns=['FastestLapAvgSpeed']).values\n",
    "y_test = test['FastestLapAvgSpeed'].values\n",
    "\n",
    "\n",
    "X_train_scaled = X_train\n",
    "X_test_scaled = X_test\n",
    "\n",
    "regr = LinearRegression()\n",
    "regr.fit(X_train_scaled, y_train)\n",
    "\n",
    "# Hacer predicciones sobre el conjunto de test\n",
    "y_pred = regr.predict(X_test_scaled)\n",
    "\n",
    "# Imprimir el Intercepto y los coeficientes\n",
    "print(f'Intercept: {regr.intercept_.round(2)}')\n",
    "print(f'Coef: {regr.coef_.round(2)}')\n",
    "\n",
    "# Calcular RMSE\n",
    "rmse = np.sqrt(mean_squared_error(y_test, y_pred))\n",
    "print(f'RMSE: {rmse}')\n",
    "\n",
    "\n",
    "plt.scatter(X_test[:, 3], y_test, c=X_test[:, 0], cmap='viridis', label='Test Data')\n",
    "plt.colorbar(label=\"Grid Position\")\n",
    "plt.scatter(X_test[:, 3], y_pred, c='red', alpha=0.6, label='Predictions')\n",
    "plt.xlabel(\"FastestLapTimeSeconds\")\n",
    "plt.ylabel(\"FastestLapAvgSpeed\")\n",
    "plt.title(\"Predictions vs Test Data (Color: Grid Position)\")\n",
    "plt.legend()\n",
    "plt.show()\n",
    "\n",
    "\n"
   ]
  },
  {
   "cell_type": "code",
   "execution_count": null,
   "metadata": {},
   "outputs": [],
   "source": [
    "ax = sns.scatterplot(x=y_pred, y=y_test)\n",
    "out = ax.axline((0, 0), slope=1, linewidth=.5, color='r', linestyle='dashed')"
   ]
  },
  {
   "cell_type": "code",
   "execution_count": null,
   "metadata": {},
   "outputs": [],
   "source": [
    "\n",
    "\n",
    "\n",
    "# Dividir los datos en entrenamiento y prueba\n",
    "enc = OneHotEncoder(sparse_output=False)\n",
    "one_hot_encoded = enc.fit_transform(final_race_results_df[['circuitName']])\n",
    "one_hot_df = pd.DataFrame(one_hot_encoded, columns=enc.get_feature_names_out(['circuitName']))\n",
    "\n",
    "# Check indexes\n",
    "one_hot_df.index = final_race_results_df.index\n",
    "\n",
    "encoded_renamed_race_results_df = pd.concat([final_race_results_df, one_hot_df], axis=1)\n",
    "\n",
    "train_2014_2021 = encoded_renamed_race_results_df[(encoded_renamed_race_results_df['season'] >= 2014) & (encoded_renamed_race_results_df['season'] <= 2021)]\n",
    "test_2022_2023 = encoded_renamed_race_results_df[(encoded_renamed_race_results_df['season'] >= 2022) & (encoded_renamed_race_results_df['season'] <= 2023)]\n",
    "\n",
    "train_2014_2021 = train_2014_2021[(train_2014_2021['circuitName'] == 'Hungaroring')]\n",
    "test_2022_2023 = test_2022_2023[(test_2022_2023['circuitName'] == 'Hungaroring')]\n",
    "\n",
    "train = train_2014_2021.drop(columns=['season', 'circuitName'])\n",
    "test = test_2022_2023.drop(columns=['season', 'circuitName'])\n",
    "\n",
    "X_train = train.drop(columns=['FastestLapAvgSpeed']).values\n",
    "y_train = train['FastestLapAvgSpeed'].values\n",
    "X_test = test.drop(columns=['FastestLapAvgSpeed']).values\n",
    "y_test = test['FastestLapAvgSpeed'].values\n",
    "\n",
    "\n",
    "X_train_scaled = X_train\n",
    "X_test_scaled = X_test\n",
    "\n",
    "regr = LinearRegression()\n",
    "regr.fit(X_train_scaled, y_train)\n",
    "\n",
    "# Hacer predicciones sobre el conjunto de test\n",
    "y_pred = regr.predict(X_test_scaled)\n",
    "\n",
    "# Imprimir el Intercepto y los coeficientes\n",
    "print(f'Intercept: {regr.intercept_.round(2)}')\n",
    "print(f'Coef: {regr.coef_.round(2)}')\n",
    "\n",
    "# Calcular RMSE\n",
    "rmse = np.sqrt(mean_squared_error(y_test, y_pred))\n",
    "print(f'RMSE: {rmse}')\n",
    "\n",
    "\n",
    "plt.scatter(X_test[:, 2], y_test, c=X_test[:, 0], cmap='viridis', label='Test Data')\n",
    "plt.colorbar(label=\"Grid Position\")\n",
    "plt.scatter(X_test[:, 2], y_pred, c='red', alpha=0.6, label='Predictions')\n",
    "plt.xlabel(\"FastestLapTimeSeconds\")\n",
    "plt.ylabel(\"FastestLapAvgSpeed\")\n",
    "plt.title(\"Predictions vs Test Data (Color: Grid Position)\")\n",
    "plt.legend()\n",
    "plt.show()\n",
    "\n",
    "\n"
   ]
  },
  {
   "cell_type": "code",
   "execution_count": null,
   "metadata": {},
   "outputs": [],
   "source": [
    "ax = sns.scatterplot(x=y_pred, y=y_test)\n",
    "out = ax.axline((0, 0), slope=1, linewidth=.5, color='r', linestyle='dashed')"
   ]
  },
  {
   "cell_type": "markdown",
   "metadata": {},
   "source": [
    "##### Grid vs Position"
   ]
  },
  {
   "cell_type": "code",
   "execution_count": null,
   "metadata": {},
   "outputs": [],
   "source": [
    "train = renamed_race_results_df[(renamed_race_results_df['season'] >= 2014) & (renamed_race_results_df['season'] <= 2021)]\n",
    "test = renamed_race_results_df[(renamed_race_results_df['season'] >= 2022) & (renamed_race_results_df['season'] <= 2023)]\n",
    "\n",
    "\n",
    "# for position in train['q1_position'].unique():\n",
    "# train = train[train['q1_position'] == 15]\n",
    "# test = test[test['q1_position'] == 15]\n",
    "\n",
    "X_train = train[['grid']].values\n",
    "y_train = train['position'].values\n",
    "X_test = test[['grid']].values\n",
    "y_test = test['position'].values\n",
    "\n",
    "# Escalados\n",
    "# x_tr_s = scaler.fit_transform(X_train)\n",
    "# x_test_s = scaler.fit_transform(X_test)\n",
    "x_tr_s = X_train\n",
    "x_test_s = X_test\n",
    "\n",
    "y_tr_s = y_train\n",
    "y_test_s = y_test\n",
    "\n",
    "# Entrenar el modelo de regresión lineal\n",
    "regr = LinearRegression()\n",
    "regr.fit(x_tr_s, y_tr_s)\n",
    "\n",
    "# Hacer predicciones sobre el conjunto de test \n",
    "y_pred = regr.predict(x_test_s)\n",
    "\n",
    "print(f'Intercept: {regr.intercept_.round(2)}')\n",
    "print(f'Coef: {regr.coef_.round(2)}')\n",
    "print(f'RMSE: {root_mean_squared_error(y_test, y_pred)}') # Round is giving me an error here\n",
    "\n",
    "fig, ax = plt.subplots(1, 2, figsize=(10, 10), sharey=True)\n",
    "ax[0].scatter(x_tr_s, y_tr_s)\n",
    "ax[0].plot(x_tr_s, regr.predict(x_tr_s), c='g')\n",
    "ax[0].set_title('Fastest Lap vs Fastest Speed (Train)')\n",
    "ax[0].set_xlabel('Grid')\n",
    "ax[0].set_ylabel('Position')\n",
    "\n",
    "ax[1].scatter(x_test_s, y_test_s)\n",
    "ax[1].plot(x_tr_s, regr.predict(x_tr_s), c='g')\n",
    "ax[1].set_title('Fastest Lap vs Fastest Speed (Test)')\n",
    "ax[1].set_xlabel('Grid')\n",
    "ax[1].set_ylabel('Position')\n",
    "plt.suptitle('Linear Regression Model')\n",
    "\n"
   ]
  },
  {
   "cell_type": "markdown",
   "metadata": {},
   "source": [
    "### Random forest"
   ]
  },
  {
   "cell_type": "code",
   "execution_count": null,
   "metadata": {},
   "outputs": [],
   "source": [
    "# Dataframe: final_race_results_df\n",
    "\n",
    "enc = OneHotEncoder(sparse_output=False)\n",
    "one_hot_encoded = enc.fit_transform(final_race_results_df[['circuitName']])\n",
    "one_hot_df = pd.DataFrame(one_hot_encoded, columns=enc.get_feature_names_out(['circuitName']))\n",
    "\n",
    "# Check indexes\n",
    "one_hot_df.index = final_race_results_df.index\n",
    "encoded_renamed_race_results_df = pd.concat([final_race_results_df, one_hot_df], axis=1)\n",
    "\n",
    "# Dividir los datos en entrenamiento y prueba\n",
    "train_2014_2021 = encoded_renamed_race_results_df[(encoded_renamed_race_results_df['season'] >= 2014) & (encoded_renamed_race_results_df['season'] <= 2021)]\n",
    "test_2022_2023 = encoded_renamed_race_results_df[(encoded_renamed_race_results_df['season'] >= 2022) & (encoded_renamed_race_results_df['season'] <= 2023)]\n",
    "\n",
    "train = train_2014_2021.drop(columns=['circuitName'])\n",
    "test = test_2022_2023.drop(columns=['circuitName'])\n",
    "\n",
    "X_train = train.drop(columns=['FastestLapAvgSpeed']).values\n",
    "y_train = train['FastestLapAvgSpeed'].values\n",
    "X_test = test.drop(columns=['FastestLapAvgSpeed']).values\n",
    "y_test = test['FastestLapAvgSpeed'].values\n",
    "\n",
    "\n",
    "# Entrenar modelo\n",
    "# rf = RandomForestRegressor(max_depth=10) # RMSE 9\n",
    "rf = RandomForestRegressor()\n",
    "rf.fit(X_train, y_train)\n",
    "\n",
    "# Obtener predicciones\n",
    "y_train_pred = rf.predict(X_train)\n",
    "y_pred = rf.predict(X_test)\n",
    "\n",
    "# Calcular el RMSE\n",
    "rmse = np.sqrt(mean_squared_error(y_test, y_pred))\n",
    "print('RMSE:', round(rmse, 2))"
   ]
  },
  {
   "cell_type": "code",
   "execution_count": null,
   "metadata": {},
   "outputs": [],
   "source": [
    "from sklearn.model_selection import cross_val_score\n",
    "scores = cross_val_score(rf, X_train, y_train, cv=5, scoring='neg_root_mean_squared_error')\n",
    "print(\"RMSE promedio:\", -scores.mean())"
   ]
  },
  {
   "cell_type": "code",
   "execution_count": null,
   "metadata": {},
   "outputs": [],
   "source": [
    "diff = pd.DataFrame({'Real': y_test, 'Predicción': y_pred, 'Error': y_test - y_pred})\n",
    "print(diff.sort_values(by='Error', ascending=False))"
   ]
  },
  {
   "cell_type": "code",
   "execution_count": null,
   "metadata": {},
   "outputs": [],
   "source": [
    "ax = sns.scatterplot(x=y_pred, y=y_test)\n",
    "out = ax.axline((0, 0), slope=1, linewidth=.5, color='r', linestyle='dashed')"
   ]
  },
  {
   "cell_type": "code",
   "execution_count": null,
   "metadata": {},
   "outputs": [],
   "source": [
    "final_race_results_df['circuitName'].unique()"
   ]
  },
  {
   "cell_type": "code",
   "execution_count": null,
   "metadata": {},
   "outputs": [],
   "source": [
    "# Dataframe: final_race_results_df\n",
    "\n",
    "enc = OneHotEncoder(sparse_output=False)\n",
    "one_hot_encoded = enc.fit_transform(final_race_results_df[['circuitName']])\n",
    "one_hot_df = pd.DataFrame(one_hot_encoded, columns=enc.get_feature_names_out(['circuitName']))\n",
    "\n",
    "# Check indexes\n",
    "one_hot_df.index = final_race_results_df.index\n",
    "encoded_renamed_race_results_df = pd.concat([final_race_results_df, one_hot_df], axis=1)\n",
    "\n",
    "# Dividir los datos en entrenamiento y prueba\n",
    "train_2014_2021 = encoded_renamed_race_results_df[(encoded_renamed_race_results_df['season'] >= 2014) & (encoded_renamed_race_results_df['season'] <= 2021)]\n",
    "test_2022_2023 = encoded_renamed_race_results_df[(encoded_renamed_race_results_df['season'] >= 2022) & (encoded_renamed_race_results_df['season'] <= 2023)]\n",
    "\n",
    "train_2014_2021 = train_2014_2021[(train_2014_2021['circuitName'] == 'Bahrain International Circuit')]\n",
    "test_2022_2023 = test_2022_2023[(test_2022_2023['circuitName'] == 'Bahrain International Circuit')]\n",
    "\n",
    "train = train_2014_2021.drop(columns=['circuitName'])\n",
    "test = test_2022_2023.drop(columns=['circuitName'])\n",
    "\n",
    "X_train = train.drop(columns=['FastestLapAvgSpeed']).values\n",
    "y_train = train['FastestLapAvgSpeed'].values\n",
    "X_test = test.drop(columns=['FastestLapAvgSpeed']).values\n",
    "y_test = test['FastestLapAvgSpeed'].values\n",
    "\n",
    "\n",
    "# Entrenar modelo\n",
    "# rf = RandomForestRegressor(max_depth=10) # RMSE 9\n",
    "rf = RandomForestRegressor()\n",
    "rf.fit(X_train, y_train)\n",
    "\n",
    "# Obtener predicciones\n",
    "y_train_pred = rf.predict(X_train)\n",
    "y_pred = rf.predict(X_test)\n",
    "\n",
    "# Calcular el RMSE\n",
    "rmse = np.sqrt(mean_squared_error(y_test, y_pred))\n",
    "print('RMSE:', round(rmse, 2))"
   ]
  },
  {
   "cell_type": "code",
   "execution_count": null,
   "metadata": {},
   "outputs": [],
   "source": [
    "diff = pd.DataFrame({'Real': y_test, 'Predicción': y_pred, 'Error': y_test - y_pred})\n",
    "print(diff.sort_values(by='Error', ascending=False))"
   ]
  },
  {
   "cell_type": "code",
   "execution_count": null,
   "metadata": {},
   "outputs": [],
   "source": [
    "problematic_circuit_data = final_race_results_df[final_race_results_df['circuitName'] == 'Bahrain International Circuit']\n",
    "\n",
    "# Comparar estadísticas con otros circuitos\n",
    "print(problematic_circuit_data.describe())"
   ]
  }
 ],
 "metadata": {
  "kernelspec": {
   "display_name": ".env",
   "language": "python",
   "name": "python3"
  },
  "language_info": {
   "codemirror_mode": {
    "name": "ipython",
    "version": 3
   },
   "file_extension": ".py",
   "mimetype": "text/x-python",
   "name": "python",
   "nbconvert_exporter": "python",
   "pygments_lexer": "ipython3",
   "version": "3.12.4"
  }
 },
 "nbformat": 4,
 "nbformat_minor": 2
}
