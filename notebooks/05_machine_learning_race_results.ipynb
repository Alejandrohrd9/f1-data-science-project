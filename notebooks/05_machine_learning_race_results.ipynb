{
 "cells": [
  {
   "cell_type": "markdown",
   "metadata": {},
   "source": [
    "# Notebook machine learning\n",
    "Entrenamiento de modelos de Regresión Lineal y Random Forest para predecir la velocidad media de la vuelta rápida a partir del tiempo de vuelta"
   ]
  },
  {
   "cell_type": "markdown",
   "metadata": {},
   "source": [
    "Importamos bibliotecas necesarias\n"
   ]
  },
  {
   "cell_type": "code",
   "execution_count": null,
   "metadata": {},
   "outputs": [],
   "source": [
    "import requests\n",
    "import csv\n",
    "import pandas as pd\n",
    "import json\n",
    "import ast\n",
    "import numpy as np\n",
    "import matplotlib.pyplot as plt\n",
    "import seaborn as sns\n",
    "# Scikit-Learn \n",
    "from sklearn.linear_model import LinearRegression\n",
    "from sklearn.ensemble import RandomForestRegressor\n",
    "from sklearn.metrics import root_mean_squared_error\n",
    "from sklearn.metrics import mean_squared_error\n",
    "from sklearn.preprocessing import MinMaxScaler\n",
    "from sklearn.preprocessing import OneHotEncoder\n",
    "from sklearn import metrics\n"
   ]
  },
  {
   "cell_type": "markdown",
   "metadata": {},
   "source": [
    "Función para convertir los tiempos de vuelta con formato mm:ss.ffff a segundos"
   ]
  },
  {
   "cell_type": "code",
   "execution_count": null,
   "metadata": {},
   "outputs": [],
   "source": [
    "\n",
    "def duration_to_seconds(duration):\n",
    "    duration_str = str(duration)\n",
    "    if ':' in duration_str: \n",
    "        minutes, seconds_miliseconds = duration_str.split(':')\n",
    "        seconds, miliseconds = seconds_miliseconds.split('.')\n",
    "        return int(minutes) * 60 + int(seconds) + int(miliseconds) / 1000\n",
    "    else:  \n",
    "        return float(duration_str)"
   ]
  },
  {
   "cell_type": "markdown",
   "metadata": {},
   "source": [
    "### Carga de datos y limpieza"
   ]
  },
  {
   "cell_type": "code",
   "execution_count": null,
   "metadata": {},
   "outputs": [],
   "source": [
    "raw_races_df = pd.read_csv('../data/results_2000-2024.csv')\n",
    "raw_races_df.head()"
   ]
  },
  {
   "cell_type": "markdown",
   "metadata": {},
   "source": [
    "Una vez cargado el CSV en un dataframe, se procede a convertir las columnas Results y Circuit a estructuras de Python. <br />\n",
    "Primero, se expande la columna Results, creando una lista llamada rows que contiene los datos generales de las carreras por cada participante, sin la columna Results, y otra lista results_expanded con la información de cada participante, es decir, el contenido de la columna Results. El objetivo es tener una fila por cada participante. <br />\n",
    "Una vez terminado los bucles, se convierten las listas a dataframes, aplanando las estructuras anidadas en results_expanded mediante json_normalize. <br />\n",
    "Se genera un nuevo dataframe a partir de la concatenación de los dos dataframes anteriores, obteniendo una fila por cada participante con su información así como información de la carrera. <br />\n",
    "Por último, se normaliza la columna Circuit que también contiene una estructura anidada.\n"
   ]
  },
  {
   "cell_type": "code",
   "execution_count": null,
   "metadata": {},
   "outputs": [],
   "source": [
    "raw_races_df['Results'] = raw_races_df['Results'].apply(ast.literal_eval)\n",
    "raw_races_df['Circuit'] = raw_races_df['Circuit'].apply(ast.literal_eval)\n",
    "\n",
    "\n",
    "rows = []\n",
    "results_expanded = []\n",
    "for index, row in raw_races_df.iterrows():\n",
    "    for result in row['Results']:\n",
    "        rows.append(row.drop('Results')) \n",
    "        results_expanded.append(result)  \n",
    "\n",
    "expanded_rows_df = pd.DataFrame(rows)\n",
    "results_normalized_df = pd.json_normalize(results_expanded) # Se normaliza columna Results\n",
    "race_results_df = pd.concat([expanded_rows_df.reset_index(drop=True), results_normalized_df.reset_index(drop=True)], axis=1) # Se añade la columna Results normalizadas al dataframe donde se contiene la información de carrera\n",
    "\n",
    "circuits_normalized = pd.json_normalize(race_results_df['Circuit']) # Se normaliza columna Circuit\n",
    "race_results_df = pd.concat([race_results_df.drop(columns=['Circuit']), circuits_normalized],axis=1) # Se añaden la columna Circuit normalizada al dataframe\n",
    "\n",
    "race_results_df.head()"
   ]
  },
  {
   "cell_type": "code",
   "execution_count": null,
   "metadata": {},
   "outputs": [],
   "source": [
    "race_results_df.columns"
   ]
  },
  {
   "cell_type": "markdown",
   "metadata": {},
   "source": [
    "Borramos columnas innecesarias"
   ]
  },
  {
   "cell_type": "code",
   "execution_count": null,
   "metadata": {},
   "outputs": [],
   "source": [
    "modified_race_results_df = race_results_df.drop(columns=['url', 'time', 'Location.country', 'Location.lat', 'Location.long', 'url', 'Driver.permanentNumber', 'Constructor.nationality', 'Constructor.constructorId', 'Constructor.url', 'circuitId', 'Location.locality', 'positionText', 'points', 'Driver.nationality', 'Driver.dateOfBirth', 'Time.time', 'Time.millis', 'Driver.url', 'Driver.driverId', 'Driver.code'])\n",
    "modified_race_results_df[modified_race_results_df['season'] == 2024].tail()"
   ]
  },
  {
   "cell_type": "markdown",
   "metadata": {},
   "source": [
    "Renombramos las variables que vamos a usar en el modelo y creamos una nueva columna que contenga el tiempo de vuelta en segundos mediante la función duration_to_seconds que se creó al principio del notebook."
   ]
  },
  {
   "cell_type": "code",
   "execution_count": null,
   "metadata": {},
   "outputs": [],
   "source": [
    "renamed_race_results_df = modified_race_results_df.rename(columns= {'FastestLap.Time.time': 'FastestLapTime', 'FastestLap.AverageSpeed.speed': 'FastestLapAvgSpeed'})\n",
    "renamed_race_results_df['FastestLapTimeSeconds'] = renamed_race_results_df['FastestLapTime'].apply(lambda duration: duration_to_seconds(duration))\n",
    "renamed_race_results_df.head()"
   ]
  },
  {
   "cell_type": "markdown",
   "metadata": {},
   "source": [
    "Comprobamos cuantos valores NaN contiene el dataframe"
   ]
  },
  {
   "cell_type": "code",
   "execution_count": null,
   "metadata": {},
   "outputs": [],
   "source": [
    "print(\"Valores NA:\")\n",
    "print(renamed_race_results_df.isna().sum())"
   ]
  },
  {
   "cell_type": "markdown",
   "metadata": {},
   "source": [
    "Convertimos columnas a variables numéricas"
   ]
  },
  {
   "cell_type": "code",
   "execution_count": null,
   "metadata": {},
   "outputs": [],
   "source": [
    "renamed_race_results_df['FastestLapAvgSpeed'] = pd.to_numeric(renamed_race_results_df['FastestLapAvgSpeed'], errors='coerce')\n",
    "renamed_race_results_df['grid'] = renamed_race_results_df['grid'].astype(str).astype(int)\n",
    "renamed_race_results_df['position'] = renamed_race_results_df['position'].astype(str).astype(int)\n",
    "renamed_race_results_df.dtypes"
   ]
  },
  {
   "cell_type": "markdown",
   "metadata": {},
   "source": [
    "Borramos registros con valores NaN"
   ]
  },
  {
   "cell_type": "code",
   "execution_count": null,
   "metadata": {},
   "outputs": [],
   "source": [
    "renamed_race_results_df = renamed_race_results_df.dropna()"
   ]
  },
  {
   "cell_type": "markdown",
   "metadata": {},
   "source": [
    "Pintamos matriz de correlación para conocer las relaciones entre las distintas columnas numéricas que disponemos en el dataframe"
   ]
  },
  {
   "cell_type": "code",
   "execution_count": null,
   "metadata": {},
   "outputs": [],
   "source": [
    "speed_corr = renamed_race_results_df.corr(numeric_only=True)\n",
    "\n",
    "fig, ax = plt.subplots(figsize=(12, 10))\n",
    "\n",
    "sns.heatmap(speed_corr, annot=True, fmt=\".2f\")"
   ]
  },
  {
   "cell_type": "markdown",
   "metadata": {},
   "source": [
    "Borrado de columnas innecesarias"
   ]
  },
  {
   "cell_type": "code",
   "execution_count": null,
   "metadata": {},
   "outputs": [],
   "source": [
    "tmp_renamed_race_results_df = renamed_race_results_df.drop(columns=['raceName', 'round', 'date', 'number', 'laps', 'status', 'Driver.givenName', 'Driver.familyName', 'Constructor.name', 'FastestLap.rank', 'FastestLap.lap', 'FastestLapTime', 'FastestLap.AverageSpeed.units'])\n",
    "tmp_renamed_race_results_df.tail()"
   ]
  },
  {
   "cell_type": "markdown",
   "metadata": {},
   "source": [
    "Comprobamos que no hayan valores nulos"
   ]
  },
  {
   "cell_type": "code",
   "execution_count": null,
   "metadata": {},
   "outputs": [],
   "source": [
    "print(tmp_renamed_race_results_df.isna().sum())\n"
   ]
  },
  {
   "cell_type": "markdown",
   "metadata": {},
   "source": [
    "Generamos una copia del dataframe modificado, y este será el dataframe a usar en los modelos"
   ]
  },
  {
   "cell_type": "code",
   "execution_count": null,
   "metadata": {},
   "outputs": [],
   "source": [
    "final_race_results_df = tmp_renamed_race_results_df.copy()"
   ]
  },
  {
   "cell_type": "code",
   "execution_count": null,
   "metadata": {},
   "outputs": [],
   "source": [
    "print(final_race_results_df['circuitName'].unique())"
   ]
  },
  {
   "cell_type": "markdown",
   "metadata": {},
   "source": [
    "### Modelos"
   ]
  },
  {
   "cell_type": "markdown",
   "metadata": {},
   "source": [
    "#### Linear Regression - Fastest Lap vs Fastest Lap Avg Speed (Todos los circuitos) "
   ]
  },
  {
   "cell_type": "markdown",
   "metadata": {},
   "source": [
    "Implementación de un modelo de Regresión Lineal Multiple, donde tenemos varias variables independientes. El objetivo es predecir la velocidad promedio de la vuelta rápida a partir del tiempo de vuelta rápida. <br />\n",
    "En primer lugar, convertimos la variable categórica circuito, en formato binario donde habrá una columna por cada circuito, que será relevante para entrenar el modelo y calcular las predicciones. <br />\n",
    "A pesar de tener datos desde el año 2000, se ha decidido trabajar con los datos a partir del año 2014 donde se produjo el salto a la era híbrida en la F1. Para entrenamiento se seleccionan los datos que van desde el 2014 hasta el 2021, y para probar el modelo los años 2022 y 2023. <br />\n",
    "Se define como variable dependiente el FastestLapAvgSpeed en y, y como variable dependientes en x contamos con position, grid, FastestLapTimeSeconds y las columnas binarias que representan cada circuito.<br />\n",
    "Se entrena el modelo y se obtienen las predicciones. A partir de los resultados de test y las predicciones, se muestra el intercept, coeficiente y RMSE (Root Mean Squared Error).\n",
    "Por último, se pinta un gráfico de dispersión que permite comparar los datos reales (y_test) con las predicciones del modelo (y_pred), mostrando cómo se relacionan los tiempos de vuelta más rápidos con las velocidades promedio. Además, existe otro gráfico donde se pintan los valores reales en x frente a los predichos en y."
   ]
  },
  {
   "cell_type": "code",
   "execution_count": null,
   "metadata": {},
   "outputs": [],
   "source": [
    "# One-hot encoder para convertir variables categóricas en formato numérico para poder ser utilizadas por el modelo\n",
    "enc = OneHotEncoder(sparse_output=False)\n",
    "one_hot_encoded = enc.fit_transform(final_race_results_df[['circuitName']])\n",
    "one_hot_df = pd.DataFrame(one_hot_encoded, columns=enc.get_feature_names_out(['circuitName']))\n",
    "\n",
    "# Revisar índices y concater las columnas binarias, codificadas, al dataframe\n",
    "one_hot_df.index = final_race_results_df.index\n",
    "encoded_renamed_race_results_df = pd.concat([final_race_results_df, one_hot_df], axis=1)\n",
    "\n",
    "# Dividir los datos en entrenamiento y prueba. Separamos por temporada\n",
    "train_2014_2021 = encoded_renamed_race_results_df[(encoded_renamed_race_results_df['season'] >= 2014) & (encoded_renamed_race_results_df['season'] <= 2021)]\n",
    "test_2022_2023 = encoded_renamed_race_results_df[(encoded_renamed_race_results_df['season'] >= 2022) & (encoded_renamed_race_results_df['season'] <= 2023)]\n",
    "\n",
    "# Borrar columnas que no se van a usar para entrenar y probar el modelo\n",
    "train = train_2014_2021.drop(columns=['season', 'circuitName'])\n",
    "test = test_2022_2023.drop(columns=['season', 'circuitName'])\n",
    "\n",
    "# FastestLapAvgSpeed es la variable a predecir, por ello, se borra del dataset del conjunto de entrenamiento\n",
    "X_train = train.drop(columns=['FastestLapAvgSpeed']).values\n",
    "y_train = train['FastestLapAvgSpeed'].values\n",
    "X_test = test.drop(columns=['FastestLapAvgSpeed']).values\n",
    "y_test = test['FastestLapAvgSpeed'].values\n",
    "\n",
    "# Entrenar modelo\n",
    "regr = LinearRegression()\n",
    "regr.fit(X_train, y_train)\n",
    "\n",
    "# Hacer predicciones sobre el conjunto de test\n",
    "y_pred = regr.predict(X_test)\n",
    "\n",
    "# Imprimir el Intercepto y los coeficientes\n",
    "print(f'Intercept: {regr.intercept_.round(2)}')\n",
    "print(f'Coef: {regr.coef_.round(2)}')\n",
    "# Calcular RMSE\n",
    "rmse = np.sqrt(mean_squared_error(y_test, y_pred))\n",
    "print(f'RMSE: {rmse}')\n"
   ]
  },
  {
   "cell_type": "markdown",
   "metadata": {},
   "source": [
    "##### Gráfico de dispersión para comparar datos reales (y_test) vs. datos predichos (y_pred)"
   ]
  },
  {
   "cell_type": "code",
   "execution_count": null,
   "metadata": {},
   "outputs": [],
   "source": [
    "\n",
    "# Gráfico de dispersión para visualizar los datos de prueba vs las predicciones\n",
    "plt.scatter(X_test[:, 2], y_test, c=X_test[:, 0], cmap='viridis', label='Test Data')\n",
    "plt.colorbar(label=\"Grid Position\")\n",
    "plt.scatter(X_test[:, 2], y_pred, c='red', alpha=0.6, label='Predictions')\n",
    "plt.xlabel(\"FastestLapTimeSeconds\")\n",
    "plt.ylabel(\"FastestLapAvgSpeed\")\n",
    "plt.title(\"Predictions vs Test Data (Color: Grid Position)\")\n",
    "plt.legend()\n",
    "plt.show()\n"
   ]
  },
  {
   "cell_type": "markdown",
   "metadata": {},
   "source": [
    "##### Gráfico con valores reales en eje 'x' y predichos en eje 'y'"
   ]
  },
  {
   "cell_type": "code",
   "execution_count": null,
   "metadata": {},
   "outputs": [],
   "source": [
    "ax = sns.scatterplot(x=y_pred, y=y_test)\n",
    "out = ax.axline((0, 0), slope=1, linewidth=.5, color='r', linestyle='dashed')"
   ]
  },
  {
   "cell_type": "markdown",
   "metadata": {},
   "source": [
    "A partir de los datos mostrados y los gráficos, se puede concluir que las predicciones son muy cercanas a los valores reales. Además, se ha obtenido un RMSE entre 5-6, que se trata de un valor aceptable para el rango del valor independiente, que oscila mayoritariamente entre 200-300. Analizando los datos, se ha concluido que ese RMSE viene condicionado por circuitos cuyas condiciones climáticas han variado durante las diferentes temporadas, dando lugar a vueltas rápidas con tiempos superiores para malas condiciones climáticas. Objetar que este dato sobre el clima no se dispone en el conjunto de datos. También condiciona en los resultados tener menos cantidad de datos para ciertos circuitos porque el calendario cambia por cada temporada."
   ]
  },
  {
   "cell_type": "markdown",
   "metadata": {},
   "source": [
    "#### Linear Regression - Fastest Lap vs Fastest Lap Avg Speed (Modelo para un circuito) "
   ]
  },
  {
   "cell_type": "code",
   "execution_count": null,
   "metadata": {},
   "outputs": [],
   "source": [
    "\n",
    "# One-hot encoder para convertir variables categóricas en formato numérico para poder ser utilizadas por el modelo\n",
    "enc = OneHotEncoder(sparse_output=False)\n",
    "one_hot_encoded = enc.fit_transform(final_race_results_df[['circuitName']])\n",
    "one_hot_df = pd.DataFrame(one_hot_encoded, columns=enc.get_feature_names_out(['circuitName']))\n",
    "\n",
    "# Revisar índices y concater las columnas binarias, codificadas, al dataframe\n",
    "one_hot_df.index = final_race_results_df.index\n",
    "encoded_renamed_race_results_df = pd.concat([final_race_results_df, one_hot_df], axis=1)\n",
    "\n",
    "# Dividir los datos en entrenamiento y prueba. Separamos por temporada\n",
    "train_2014_2021 = encoded_renamed_race_results_df[(encoded_renamed_race_results_df['season'] >= 2014) & (encoded_renamed_race_results_df['season'] <= 2021)]\n",
    "test_2022_2023 = encoded_renamed_race_results_df[(encoded_renamed_race_results_df['season'] >= 2022) & (encoded_renamed_race_results_df['season'] <= 2023)]\n",
    "\n",
    "# Seleccionar datos para un circuito concreto\n",
    "train_2014_2021 = train_2014_2021[(train_2014_2021['circuitName'] == 'Circuit Paul Ricard')]\n",
    "test_2022_2023 = test_2022_2023[(test_2022_2023['circuitName'] == 'Circuit Paul Ricard')]\n",
    "\n",
    "# Borrar columnas que no se van a usar para entrenar y probar el modelo\n",
    "train = train_2014_2021.drop(columns=['season', 'circuitName'])\n",
    "test = test_2022_2023.drop(columns=['season', 'circuitName'])\n",
    "\n",
    "# FastestLapAvgSpeed es la variable a predecir, por ello, se borra del dataset del conjunto de entrenamiento\n",
    "X_train = train.drop(columns=['FastestLapAvgSpeed']).values\n",
    "y_train = train['FastestLapAvgSpeed'].values\n",
    "X_test = test.drop(columns=['FastestLapAvgSpeed']).values\n",
    "y_test = test['FastestLapAvgSpeed'].values\n",
    "\n",
    "# Entrenar modelo\n",
    "regr = LinearRegression()\n",
    "regr.fit(X_train, y_train)\n",
    "\n",
    "# Hacer predicciones sobre el conjunto de test\n",
    "y_pred = regr.predict(X_test)\n",
    "\n",
    "# Imprimir el Intercepto y los coeficientes\n",
    "print(f'Intercept: {regr.intercept_.round(2)}')\n",
    "print(f'Coef: {regr.coef_.round(2)}')\n",
    "\n",
    "# Calcular RMSE\n",
    "rmse = np.sqrt(mean_squared_error(y_test, y_pred))\n",
    "print(f'RMSE: {rmse}')\n"
   ]
  },
  {
   "cell_type": "markdown",
   "metadata": {},
   "source": [
    "##### Gráfico de dispersión para comparar datos reales (y_test) vs. datos predichos (y_pred)"
   ]
  },
  {
   "cell_type": "code",
   "execution_count": null,
   "metadata": {},
   "outputs": [],
   "source": [
    "plt.scatter(X_test[:, 2], y_test, c=X_test[:, 0], cmap='viridis', label='Test Data')\n",
    "plt.colorbar(label=\"Grid Position\")\n",
    "plt.scatter(X_test[:, 2], y_pred, c='red', alpha=0.6, label='Predictions')\n",
    "plt.xlabel(\"FastestLapTimeSeconds\")\n",
    "plt.ylabel(\"FastestLapAvgSpeed\")\n",
    "plt.title(\"Predictions vs Test Data (Color: Grid Position)\")\n",
    "plt.legend()\n",
    "plt.show()"
   ]
  },
  {
   "cell_type": "markdown",
   "metadata": {},
   "source": [
    "##### Gráfico con valores reales en eje 'x' y predichos en eje 'y'"
   ]
  },
  {
   "cell_type": "code",
   "execution_count": null,
   "metadata": {},
   "outputs": [],
   "source": [
    "ax = sns.scatterplot(x=y_pred, y=y_test)\n",
    "out = ax.axline((0, 0), slope=1, linewidth=.5, color='r', linestyle='dashed')"
   ]
  },
  {
   "cell_type": "markdown",
   "metadata": {},
   "source": [
    "A partir de los datos mostrados y los gráficos, se puede concluir que las predicciones prácticamente coinciden a los valores reales. Se ha obtenido un RMSE muy próximo al cero, lo que indica que las predicciones del modelo están muy cerca de los valores reales, lo que representa un buen desempeño del modelo."
   ]
  },
  {
   "cell_type": "markdown",
   "metadata": {},
   "source": [
    "#### Random forest - Fastest Lap vs Fastest Lap Avg Speed (Todos los circuitos) "
   ]
  },
  {
   "cell_type": "code",
   "execution_count": null,
   "metadata": {},
   "outputs": [],
   "source": [
    "# One-hot encoder para convertir variables categóricas en formato numérico para poder ser utilizadas por el modelo\n",
    "enc = OneHotEncoder(sparse_output=False)\n",
    "one_hot_encoded = enc.fit_transform(final_race_results_df[['circuitName']])\n",
    "one_hot_df = pd.DataFrame(one_hot_encoded, columns=enc.get_feature_names_out(['circuitName']))\n",
    "\n",
    "# Revisar índices y concater las columnas binarias, codificadas, al dataframe\n",
    "one_hot_df.index = final_race_results_df.index\n",
    "encoded_renamed_race_results_df = pd.concat([final_race_results_df, one_hot_df], axis=1)\n",
    "\n",
    "# Dividir los datos en entrenamiento y prueba. Separamos por temporada\n",
    "train_2014_2021 = encoded_renamed_race_results_df[(encoded_renamed_race_results_df['season'] >= 2014) & (encoded_renamed_race_results_df['season'] <= 2021)]\n",
    "test_2022_2023 = encoded_renamed_race_results_df[(encoded_renamed_race_results_df['season'] >= 2022) & (encoded_renamed_race_results_df['season'] <= 2023)]\n",
    "\n",
    "# Borrar columnas que no se van a usar para entrenar y probar el modelo\n",
    "train = train_2014_2021.drop(columns=['circuitName'])\n",
    "test = test_2022_2023.drop(columns=['circuitName'])\n",
    "\n",
    "# FastestLapAvgSpeed es la variable a predecir, por ello, se borra del dataset del conjunto de entrenamiento\n",
    "X_train = train.drop(columns=['FastestLapAvgSpeed']).values\n",
    "y_train = train['FastestLapAvgSpeed'].values\n",
    "X_test = test.drop(columns=['FastestLapAvgSpeed']).values\n",
    "y_test = test['FastestLapAvgSpeed'].values\n",
    "\n",
    "\n",
    "# Entrenar modelo\n",
    "# rf = RandomForestRegressor(max_depth=10) # RMSE 9\n",
    "rf = RandomForestRegressor()\n",
    "rf.fit(X_train, y_train)\n",
    "\n",
    "# Obtener predicciones\n",
    "y_train_pred = rf.predict(X_train)\n",
    "y_pred = rf.predict(X_test)\n",
    "\n",
    "# Calcular el RMSE\n",
    "rmse = np.sqrt(mean_squared_error(y_test, y_pred))\n",
    "print('RMSE:', round(rmse, 2))"
   ]
  },
  {
   "cell_type": "markdown",
   "metadata": {},
   "source": [
    "##### Gráfico con valores reales en eje 'x' y predichos en eje 'y'"
   ]
  },
  {
   "cell_type": "code",
   "execution_count": null,
   "metadata": {},
   "outputs": [],
   "source": [
    "ax = sns.scatterplot(x=y_pred, y=y_test)\n",
    "out = ax.axline((0, 0), slope=1, linewidth=.5, color='r', linestyle='dashed')"
   ]
  },
  {
   "cell_type": "markdown",
   "metadata": {},
   "source": [
    "Las conclusiones a las que se puede llegar tras probar un Random Forest entrenado para todos los circuitos son prácticamente las mismas que para el modelo de regresión lineal, con un RMSE muy similar. No obstante, se ha probado a ajustar los distintos parámetros del RandomForestRegressor, como el max_depth o min_samples_leaf, y no se ha conseguido mejorar el modelo sino en ocasiones todo lo contrario, como se puede ver comentado en el código del modelo cuando he establecido un max_depth=10, obteniendo un RMSE = 9."
   ]
  },
  {
   "cell_type": "markdown",
   "metadata": {},
   "source": [
    "#### Random Forest - Fastest Lap vs Fastest Lap Avg Speed (Modelo para un circuito) "
   ]
  },
  {
   "cell_type": "code",
   "execution_count": null,
   "metadata": {},
   "outputs": [],
   "source": [
    "# One-hot encoder para convertir variables categóricas en formato numérico para poder ser utilizadas por el modelo\n",
    "enc = OneHotEncoder(sparse_output=False)\n",
    "one_hot_encoded = enc.fit_transform(final_race_results_df[['circuitName']])\n",
    "one_hot_df = pd.DataFrame(one_hot_encoded, columns=enc.get_feature_names_out(['circuitName']))\n",
    "\n",
    "# Revisar índices y concater las columnas binarias, codificadas, al dataframe\n",
    "one_hot_df.index = final_race_results_df.index\n",
    "encoded_renamed_race_results_df = pd.concat([final_race_results_df, one_hot_df], axis=1)\n",
    "\n",
    "# Dividir los datos en entrenamiento y prueba. Separamos por temporada\n",
    "train_2014_2021 = encoded_renamed_race_results_df[(encoded_renamed_race_results_df['season'] >= 2014) & (encoded_renamed_race_results_df['season'] <= 2021)]\n",
    "test_2022_2023 = encoded_renamed_race_results_df[(encoded_renamed_race_results_df['season'] >= 2022) & (encoded_renamed_race_results_df['season'] <= 2023)]\n",
    "\n",
    "# Seleccionar datos para un circuito concreto\n",
    "train_2014_2021 = train_2014_2021[(train_2014_2021['circuitName'] == 'Bahrain International Circuit')]\n",
    "test_2022_2023 = test_2022_2023[(test_2022_2023['circuitName'] == 'Bahrain International Circuit')]\n",
    "\n",
    "# Borrar columnas que no se van a usar para entrenar y probar el modelo\n",
    "train = train_2014_2021.drop(columns=['circuitName'])\n",
    "test = test_2022_2023.drop(columns=['circuitName'])\n",
    "\n",
    "# FastestLapAvgSpeed es la variable a predecir, por ello, se borra del dataset del conjunto de entrenamiento\n",
    "X_train = train.drop(columns=['FastestLapAvgSpeed']).values\n",
    "y_train = train['FastestLapAvgSpeed'].values\n",
    "X_test = test.drop(columns=['FastestLapAvgSpeed']).values\n",
    "y_test = test['FastestLapAvgSpeed'].values\n",
    "\n",
    "# Entrenar modelo\n",
    "rf = RandomForestRegressor()\n",
    "rf.fit(X_train, y_train)\n",
    "\n",
    "# Obtener predicciones\n",
    "y_train_pred = rf.predict(X_train)\n",
    "y_pred = rf.predict(X_test)\n",
    "\n",
    "# Calcular el RMSE\n",
    "rmse = np.sqrt(mean_squared_error(y_test, y_pred))\n",
    "print('RMSE:', round(rmse, 2))"
   ]
  },
  {
   "cell_type": "markdown",
   "metadata": {},
   "source": [
    "##### Gráfico con valores reales en eje 'x' y predichos en eje 'y'"
   ]
  },
  {
   "cell_type": "code",
   "execution_count": null,
   "metadata": {},
   "outputs": [],
   "source": [
    "ax = sns.scatterplot(x=y_pred, y=y_test)\n",
    "out = ax.axline((0, 0), slope=1, linewidth=.5, color='r', linestyle='dashed')"
   ]
  },
  {
   "cell_type": "markdown",
   "metadata": {},
   "source": [
    "El RMSE de entorno 0.1 obtenido al limitar los datos a un circuito específico muestra que el modelo tiene un gran poder predictivo en este contexto particular, lo que puede sugerir además, que el modelo captura correctamente las relaciones subyacentes dentro del conjunto de datos con el que se ha entrado y probado.\n"
   ]
  },
  {
   "cell_type": "markdown",
   "metadata": {},
   "source": [
    "#### Nota final"
   ]
  },
  {
   "cell_type": "markdown",
   "metadata": {},
   "source": [
    "Como mejora, se consideraría uncluir las circunstancia meteorológicas en el conjunto de datos y probar con circuitos que han estado presentes en el calendario desde 2014 hasta 2023 ininterrumpidamente."
   ]
  }
 ],
 "metadata": {
  "kernelspec": {
   "display_name": ".env",
   "language": "python",
   "name": "python3"
  },
  "language_info": {
   "codemirror_mode": {
    "name": "ipython",
    "version": 3
   },
   "file_extension": ".py",
   "mimetype": "text/x-python",
   "name": "python",
   "nbconvert_exporter": "python",
   "pygments_lexer": "ipython3",
   "version": "3.12.4"
  }
 },
 "nbformat": 4,
 "nbformat_minor": 2
}
