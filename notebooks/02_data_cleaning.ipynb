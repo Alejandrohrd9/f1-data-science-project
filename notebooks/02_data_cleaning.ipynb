{
 "cells": [
  {
   "cell_type": "code",
   "execution_count": null,
   "metadata": {},
   "outputs": [],
   "source": [
    "import pandas as pd\n",
    "import ast\n",
    "import pycountry_convert as pc"
   ]
  },
  {
   "cell_type": "markdown",
   "metadata": {},
   "source": [
    "#### Resultados\n",
    "Unión del conjunto de datos de los resultados de carreras y de los sprints a partir de los CSVs generados. El nuevo conjunto de datos se exporta en formato CSV"
   ]
  },
  {
   "cell_type": "markdown",
   "metadata": {},
   "source": [
    "##### Resultados carreras"
   ]
  },
  {
   "cell_type": "code",
   "execution_count": null,
   "metadata": {},
   "outputs": [],
   "source": [
    "raw_race_results_df = pd.read_csv('../data/results_2000-2024.csv')\n",
    "\n",
    "raw_race_results_df['Results'] = raw_race_results_df['Results'].apply(ast.literal_eval)\n",
    "\n",
    "rows = []\n",
    "results_expanded = []\n",
    "for index, row in raw_race_results_df.iterrows():\n",
    "    results_list = row['Results']\n",
    "    for result in results_list:\n",
    "        rows.append(row.drop('Results'))\n",
    "        results_expanded.append(result)\n",
    "\n",
    "expanded_rows_df = pd.DataFrame(rows)\n",
    "results_normalized_df = pd.json_normalize(results_expanded)\n",
    "\n",
    "race_results_df = pd.concat([expanded_rows_df.reset_index(drop=True), results_normalized_df.reset_index(drop=True)], axis=1)\n",
    "\n",
    "race_results_df['points'] = pd.to_numeric(race_results_df['points'], errors='coerce') # convert to integer\n",
    "\n",
    "## Circuits\n",
    "race_results_df['Circuit'] = race_results_df['Circuit'].apply(ast.literal_eval)\n",
    "# print(type(drivers_results_df['Circuit'].iloc[0]))\n",
    "circuits_normalized = pd.json_normalize(race_results_df['Circuit'])\n",
    "\n",
    "race_results_df = pd.concat([race_results_df.drop(columns=['Circuit']), circuits_normalized],axis=1)\n",
    "\n",
    "race_results_df.drop(columns=['url', 'Location.lat', 'Location.long', 'Location.locality', 'Location.country', 'Driver.url', 'Driver.permanentNumber', 'Constructor.url', 'time'], axis=1, inplace=True)\n",
    "\n",
    "race_results_df.rename(columns={'Driver.driverId': 'driverId', 'Driver.code': 'driverCode', 'Driver.givenName': 'driverName', 'Driver.familyName': 'driverSurname', 'Driver.dateOfBirth': 'driverBirth',\n",
    "'Driver.nationality':'driverNationality', 'Constructor.constructorId': 'constructorId', 'Constructor.name': 'constructorName', 'Constructor.nationality': 'constructorNationality', 'Time.millis': 'timeMillis', 'Time.time': 'time', 'FastestLap.rank': 'fastestLapRank',\n",
    "'FastestLap.lap': 'fastestLap', 'FastestLap.Time.time': 'fastestLapTime', 'FastestLap.AverageSpeed.speed': 'fastestLapAverageSpeed', 'FastestLap.AverageSpeed.units': 'fastestLapAverageSpeedUnit'},  inplace=True)\n",
    "\n",
    "race_results_df = race_results_df.astype({'position': 'int64', 'points': 'int64', 'grid': 'int64', 'laps': 'int64'})\n",
    "\n",
    "race_results_df.head()\n"
   ]
  },
  {
   "cell_type": "markdown",
   "metadata": {},
   "source": [
    "##### Resultados sprint races"
   ]
  },
  {
   "cell_type": "code",
   "execution_count": null,
   "metadata": {},
   "outputs": [],
   "source": [
    "# Sprint results started from 2021\n",
    "\n",
    "raw_sprint_results_df = pd.read_csv('../data/sprint_results_2000-2024.csv')\n",
    "\n",
    "raw_sprint_results_df['SprintResults'] = raw_sprint_results_df['SprintResults'].apply(ast.literal_eval)\n",
    "\n",
    "rows = []\n",
    "results_expanded = []\n",
    "for index, row in raw_sprint_results_df.iterrows():\n",
    "    results_list = row['SprintResults']\n",
    "    for result in results_list:\n",
    "        rows.append(row.drop('SprintResults'))\n",
    "        results_expanded.append(result)\n",
    "\n",
    "expanded_rows_df = pd.DataFrame(rows)\n",
    "results_normalized_df = pd.json_normalize(results_expanded)\n",
    "\n",
    "sprint_results_df = pd.concat([expanded_rows_df.reset_index(drop=True), results_normalized_df.reset_index(drop=True)], axis=1)\n",
    "\n",
    "sprint_results_df['points'] = pd.to_numeric(sprint_results_df['points'], errors='coerce') # convert to integer\n",
    "\n",
    "## Circuits\n",
    "sprint_results_df['Circuit'] = sprint_results_df['Circuit'].apply(ast.literal_eval)\n",
    "# print(type(drivers_results_df['Circuit'].iloc[0]))\n",
    "circuits_normalized = pd.json_normalize(sprint_results_df['Circuit'])\n",
    "\n",
    "sprint_results_df = pd.concat([sprint_results_df.drop(columns=['Circuit']), circuits_normalized],axis=1)\n",
    "\n",
    "sprint_results_df.drop(columns=['url', 'Location.lat',\t'Location.long', 'Location.locality', 'Location.country', 'Driver.url', 'Driver.permanentNumber', 'Constructor.url', 'time'], axis=1, inplace=True)\n",
    "\n",
    "# Rename\n",
    "sprint_results_df.rename(columns={'Driver.driverId': 'driverId', 'Driver.code': 'driverCode', 'Driver.givenName': 'driverName', 'Driver.familyName': 'driverSurname', 'Driver.dateOfBirth': 'driverBirth',\n",
    "'Driver.nationality':'driverNationality', 'Constructor.constructorId': 'constructorId', 'Constructor.name': 'constructorName', 'Constructor.nationality': 'constructorNationality', 'Time.millis': 'timeMillis', 'Time.time': 'time', 'FastestLap.rank': 'fastestLapRank',\n",
    "'FastestLap.lap': 'fastestLap', 'FastestLap.Time.time': 'fastestLapTime', 'FastestLap.AverageSpeed.speed': 'fastestLapAverageSpeed', 'FastestLap.AverageSpeed.units': 'fastestLapAverageSpeedUnit'},  inplace=True)\n",
    "\n",
    "# Rename for future merge\n",
    "sprint_results_df.rename(columns={'position':'sprintPosition', 'points':'sprintPoints', 'grid':'sprintGrid', 'laps':'sprintLaps'}, inplace=True)\n",
    "\n",
    "# Set data types\n",
    "sprint_results_df = sprint_results_df.astype({'sprintPosition': 'int64', 'sprintPoints': 'int64', 'sprintGrid': 'int64', 'sprintLaps': 'int64'})\n",
    "\n",
    "sprint_results_df.head()\n"
   ]
  },
  {
   "cell_type": "markdown",
   "metadata": {},
   "source": [
    "##### Unión de ambos conjuntos de datos"
   ]
  },
  {
   "cell_type": "code",
   "execution_count": null,
   "metadata": {},
   "outputs": [],
   "source": [
    "# Merge the sprint results into the results\n",
    "sprint_results_df['sprintRace']= True\n",
    "sprint_results_df.head()\n",
    "all_results_df = pd.merge(race_results_df, sprint_results_df[['circuitId', 'season', 'driverId','sprintPosition', 'sprintGrid', 'sprintLaps', 'sprintPoints','sprintRace']], on=['circuitId', 'season', 'driverId'], how='left')\n",
    "\n",
    "all_results_df['sprintRace'] = all_results_df['sprintRace'].fillna(False)\n",
    "\n",
    "# No numerics values to NaN\n",
    "all_results_df[['fastestLapRank', 'fastestLap', 'sprintPosition', 'sprintGrid', 'sprintLaps', 'sprintPoints']] = all_results_df[['fastestLapRank', 'fastestLap', 'sprintPosition', 'sprintGrid', 'sprintLaps', 'sprintPoints']].apply(pd.to_numeric, errors='coerce')\n",
    "\n",
    "all_results_df[['fastestLapRank', 'fastestLap', 'sprintPosition', 'sprintGrid', 'sprintLaps', 'sprintPoints']] = all_results_df[['fastestLapRank', 'fastestLap', 'sprintPosition', 'sprintGrid', 'sprintLaps', 'sprintPoints']].fillna(0)\n",
    "all_results_df[['fastestLapRank', 'fastestLap', 'sprintPosition', 'sprintGrid', 'sprintLaps', 'sprintPoints']] = all_results_df[['fastestLapRank', 'fastestLap', 'sprintPosition', 'sprintGrid', 'sprintLaps', 'sprintPoints']].astype(int)\n",
    "\n",
    "# Race points + Sprint points\n",
    "all_results_df['weekendPoints'] = all_results_df['points'] + all_results_df['sprintPoints']\n",
    "\n",
    "all_results_df.to_csv('../data/race_and_sprint_results_2000-2024.csv', index=False)"
   ]
  },
  {
   "cell_type": "markdown",
   "metadata": {},
   "source": [
    "Cálculo de los puntos obtenidos para un fin de semana: Carrera + Sprint"
   ]
  },
  {
   "cell_type": "code",
   "execution_count": null,
   "metadata": {},
   "outputs": [],
   "source": [
    "all_results_df['cumulative_points'] = all_results_df.groupby(['season','driverId'])['weekendPoints'].cumsum()\n",
    "all_results_df.tail(25)\n"
   ]
  },
  {
   "cell_type": "markdown",
   "metadata": {},
   "source": [
    "#### Circuitos por temporada"
   ]
  },
  {
   "cell_type": "markdown",
   "metadata": {},
   "source": [
    "##### Función para obtener el continente para un país"
   ]
  },
  {
   "cell_type": "code",
   "execution_count": null,
   "metadata": {},
   "outputs": [],
   "source": [
    "def get_continent_name(country_name):\n",
    "    country_code = pc.country_name_to_country_alpha2(country_name)\n",
    "    continent_code = pc.country_alpha2_to_continent_code(country_code)\n",
    "    continent_dict = {\n",
    "        \"NA\": \"North America\",\n",
    "        \"SA\": \"South America\",\n",
    "        \"AS\": \"Asia\",\n",
    "        \"AF\": \"Africa\",\n",
    "        \"OC\": \"Oceania\",\n",
    "        \"EU\": \"Europe\",\n",
    "        \"AQ\" : \"Antarctica\"\n",
    "    }\n",
    "    return continent_dict[continent_code]\n"
   ]
  },
  {
   "cell_type": "markdown",
   "metadata": {},
   "source": [
    "Limpieza del conjunto de datos de circuitos"
   ]
  },
  {
   "cell_type": "code",
   "execution_count": null,
   "metadata": {},
   "outputs": [],
   "source": [
    "df_seasons_circuits = pd.read_csv('../data/seasons_circuits_2000-2024.csv')\n",
    "\n",
    "df_dropped_circuits = df_seasons_circuits.drop(columns=['time', 'ThirdPractice', 'FirstPractice', 'SecondPractice', 'url', 'Sprint', 'Qualifying'])\n",
    "\n",
    "df_dropped_circuits['Circuit'] = df_dropped_circuits['Circuit'].apply(ast.literal_eval)\n",
    "\n",
    "df_flat_circuits = pd.concat(\n",
    "    [df_dropped_circuits.drop(columns=['Circuit']), pd.json_normalize(df_dropped_circuits['Circuit'])],\n",
    "    axis=1\n",
    ")\n",
    "\n",
    "df_flat_circuits.rename(columns={'Location.lat':'latitude', 'Location.long':'longitude', 'Location.locality':'locality', 'Location.country':'country'}, inplace=True)\n",
    "\n",
    "df_flat_circuits.drop(columns=['url'], inplace=True)\n",
    "# Replace some country names to make them compatible with pycountry_convert library to get continent names \n",
    "df_flat_circuits['country'] = df_flat_circuits['country'].replace({'UK': 'United Kingdom', 'USA': 'United States', 'UAE': 'United Arab Emirates', 'Korea': 'South Korea'})\n",
    "\n",
    "df_flat_circuits['continent'] = df_flat_circuits['country'].apply(get_continent_name)\n",
    "\n",
    "\n",
    "# Create CSV file\n",
    "df_flat_circuits.to_csv('../data/cleaned_circuits_2000-2024.csv', index=False)\n"
   ]
  },
  {
   "cell_type": "markdown",
   "metadata": {},
   "source": [
    "#### Pitstops\n",
    "Limpieza del conjunto de datos de los pitstops"
   ]
  },
  {
   "cell_type": "code",
   "execution_count": null,
   "metadata": {},
   "outputs": [],
   "source": [
    "raw_pitstops_df = pd.read_csv('../data/raw_pitstops.csv')\n",
    "\n",
    "raw_pitstops_df['PitStops'] = raw_pitstops_df['PitStops'].apply(ast.literal_eval)\n",
    "\n",
    "rows = []\n",
    "pitstops_expanded = []\n",
    "for index, row in raw_pitstops_df.iterrows():\n",
    "    pitstop_list = row['PitStops']\n",
    "    for pitstop_item in pitstop_list:\n",
    "        rows.append(row.drop('PitStops'))\n",
    "        pitstops_expanded.append(pitstop_item)\n",
    "\n",
    "expanded_rows_df = pd.DataFrame(rows)\n",
    "pitstops_normalized_df = pd.json_normalize(pitstops_expanded)\n",
    "\n",
    "pitstops_rows_df = pd.concat([expanded_rows_df.reset_index(drop=True), pitstops_normalized_df.reset_index(drop=True)], axis=1)\n",
    "pitstops_rows_df.head()\n",
    " \n",
    "pitstops_rows_df['Circuit'] = pitstops_rows_df['Circuit'].apply(ast.literal_eval)\n",
    "\n",
    "pitstops_rows_df['circuitId'] = pitstops_rows_df['Circuit'].apply(lambda x: x.get(\"circuitId\"))\n",
    "\n",
    "pitstops_rows_df.drop(columns=['url', 'Circuit','time'], axis=1, inplace=True)\n",
    "\n",
    "results_df = pd.read_csv('../data/race_and_sprint_results_2000-2024.csv')\n",
    "teams_from_results_df = results_df[['season', 'driverId', 'driverName', 'driverSurname', 'constructorId', 'constructorName']]\n",
    "teams_from_results_df = teams_from_results_df.groupby(['season', 'driverId']).first().reset_index()\n",
    "drivers_pitstops_df = pd.merge(pitstops_rows_df, teams_from_results_df[['season','driverId','driverName', 'driverSurname', 'constructorId', 'constructorName']], on=['season','driverId'], how='left')\n",
    "drivers_pitstops_df['driverFullName'] = drivers_pitstops_df['driverName'] + ' ' + drivers_pitstops_df['driverSurname']\n",
    "\n",
    "# Create CSV file\n",
    "drivers_pitstops_df.to_csv('../data/cleaned_pitstops.csv', index=False)"
   ]
  }
 ],
 "metadata": {
  "kernelspec": {
   "display_name": ".env",
   "language": "python",
   "name": "python3"
  },
  "language_info": {
   "codemirror_mode": {
    "name": "ipython",
    "version": 3
   },
   "file_extension": ".py",
   "mimetype": "text/x-python",
   "name": "python",
   "nbconvert_exporter": "python",
   "pygments_lexer": "ipython3",
   "version": "3.12.4"
  }
 },
 "nbformat": 4,
 "nbformat_minor": 2
}
