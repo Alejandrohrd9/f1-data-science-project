{
 "cells": [
  {
   "cell_type": "markdown",
   "metadata": {},
   "source": [
    "# Notebook - FastF1\n",
    "\n",
    "Notebook donde se prueba el paquete de Python FastF1, el cual permite acceder y analizar datos de la Formula 1. FastF1 se utiliza como complemento a la API de Ergast para aumentar el conjunto de datos con el que trabajar en el proyecto. La obtención de los datos para este caso se hará en tiempo real, haciendo uso de las funciones que ofrece el paquete, que permite hacer consultas por temporada y gran premio."
   ]
  },
  {
   "cell_type": "markdown",
   "metadata": {},
   "source": [
    "Importamos bibliotecas necesarias"
   ]
  },
  {
   "cell_type": "code",
   "execution_count": null,
   "metadata": {},
   "outputs": [],
   "source": [
    "import requests\n",
    "import csv\n",
    "import pandas as pd\n",
    "import json\n",
    "import ast\n",
    "import fastf1\n",
    "import fastf1.plotting"
   ]
  },
  {
   "cell_type": "markdown",
   "metadata": {},
   "source": [
    "### Stints\n",
    "Realizamos una primera consulta para extrar los datos para el Gran Premio de Hungría para el año 2022 y sacamos por pantalla varios de los datos que devuelve la consulta"
   ]
  },
  {
   "cell_type": "code",
   "execution_count": null,
   "metadata": {},
   "outputs": [],
   "source": [
    "# Creamos el objeto Session para la carrera de Hungría de 2022, como se especifica en los parámetros. Llamamos posteriormente a load() para cargar los datos del objeto Session\n",
    "session = fastf1.get_session(2022, 'Hungary', 'R')\n",
    "session.load()\n",
    "\n",
    "# Obtener la información relativa a las vueltas\n",
    "laps = session.laps\n",
    "\n",
    "# Obtener información sobre los pilotos\n",
    "drivers = session.drivers\n",
    "\n",
    "# Obtener los resultados\n",
    "results = session.results\n",
    "\n",
    "# Crear una lista con las abreviaciones de los nombres de los pilotos\n",
    "drivers = [session.get_driver(driver)[\"Abbreviation\"] for driver in drivers]\n",
    "\n",
    "# \n",
    "# positions = results[[\"DriverNumber\", \"Abbreviation\", \"GridPosition\", \"Position\"]]\n",
    "# positions_list = positions['Abbreviation'].to_list()\n",
    "\n",
    "# Contabilizar el número de stints por pilotos y el compuesto utilizado agrupando por columnas y contando los registros generados\n",
    "stints = laps[[\"Driver\", \"DriverNumber\", \"Stint\", \"Compound\", \"LapNumber\"]]\n",
    "stints = stints.groupby([\"Driver\", \"DriverNumber\", \"Stint\", \"Compound\"])\n",
    "stints = stints.count().reset_index()\n",
    "\n",
    "# Renombrar columnas\n",
    "stints = stints.rename(columns={\"LapNumber\": \"StintLength\"})\n"
   ]
  },
  {
   "cell_type": "markdown",
   "metadata": {},
   "source": [
    "Resultado final del dataframe stints"
   ]
  },
  {
   "cell_type": "code",
   "execution_count": null,
   "metadata": {},
   "outputs": [],
   "source": [
    "stints.head()"
   ]
  },
  {
   "cell_type": "markdown",
   "metadata": {},
   "source": [
    "Visualizamos datos del dataframe laps"
   ]
  },
  {
   "cell_type": "code",
   "execution_count": null,
   "metadata": {},
   "outputs": [],
   "source": [
    "laps.head()"
   ]
  },
  {
   "cell_type": "code",
   "execution_count": null,
   "metadata": {},
   "outputs": [],
   "source": [
    "laps.tail()"
   ]
  },
  {
   "cell_type": "markdown",
   "metadata": {},
   "source": [
    "Borramos columnas innecesarias del dataframe"
   ]
  },
  {
   "cell_type": "code",
   "execution_count": null,
   "metadata": {},
   "outputs": [],
   "source": [
    "laps_updated = laps.drop(columns=['Time', 'PitOutTime', 'PitInTime', 'FastF1Generated', 'FreshTyre', 'IsAccurate', 'Deleted', 'DeletedReason'], axis=1)\n",
    "laps_updated.head()"
   ]
  },
  {
   "cell_type": "code",
   "execution_count": null,
   "metadata": {},
   "outputs": [],
   "source": [
    "sorted_positions = laps_updated.sort_values(by='Position', ascending=True)\n",
    "sorted_positions.head()"
   ]
  },
  {
   "cell_type": "markdown",
   "metadata": {},
   "source": [
    "### Representaciones gráficas de los datos extraidos"
   ]
  },
  {
   "cell_type": "markdown",
   "metadata": {},
   "source": [
    "#### Gráfico de líneas: Cambio de posiciones\n",
    "Gráfico con el que se pretende representar los cambios de posiciones de los pilotos en el transcurso de la carrera, donde el eje X representa el número de vuelta e Y la posición. Se utiliza un gráfico de líneas con la librería Plotly."
   ]
  },
  {
   "cell_type": "code",
   "execution_count": null,
   "metadata": {},
   "outputs": [],
   "source": [
    "import plotly.express as px\n",
    "# Gráfico de líneas\n",
    "fig = px.line(laps_updated, \n",
    "            x='LapNumber', \n",
    "            y='Position', \n",
    "            color='Driver', \n",
    "            markers=True)\n",
    "            \n",
    "fig.update_layout(\n",
    "    yaxis=dict(autorange=\"reversed\")  # Invertir el orden del eje Y\n",
    ")\n",
    "# Mostrar el gráfico\n",
    "fig.show()\n"
   ]
  },
  {
   "cell_type": "markdown",
   "metadata": {},
   "source": [
    "#### Gráfico de barras: Visualizar balance de posición de salida vs. posición final\n",
    "Gráfico de barras con el que se pretende analizar las posiciones ganadas y/o perdidas por los pilotos durante una carrera. Para ello, se añade una nueva columna al dataset a usar con el resultado de calcular la diferencia entre la posición de salida y la posición final."
   ]
  },
  {
   "cell_type": "code",
   "execution_count": null,
   "metadata": {},
   "outputs": [],
   "source": [
    "positions.head()"
   ]
  },
  {
   "cell_type": "markdown",
   "metadata": {},
   "source": [
    "Calculamos el número de posiciones ganadas y/o perdidas considerando la posición de inicio de carrera de cada piloto y la posición final."
   ]
  },
  {
   "cell_type": "code",
   "execution_count": null,
   "metadata": {},
   "outputs": [],
   "source": [
    "positions_df = positions.copy()\n",
    "positions_df['PositionChange'] = positions_df['GridPosition'] - positions_df['Position']\n",
    "positions_df.head()\n"
   ]
  },
  {
   "cell_type": "markdown",
   "metadata": {},
   "source": [
    "Utilizamos la librería plotly para obtener una visualización de muestra de la diferencia de posiciones, donde el eje X representa la diferenica de las posiciones y el eje Y cada piloto."
   ]
  },
  {
   "cell_type": "code",
   "execution_count": null,
   "metadata": {},
   "outputs": [],
   "source": [
    "# Gráfico de barras\n",
    "fig = px.bar(\n",
    "    positions_df,\n",
    "    x='PositionChange',\n",
    "    y='Abbreviation',\n",
    "    color='PositionChange',\n",
    "    orientation='h',\n",
    "    title=\"Ganancia o Pérdida de Posiciones por Piloto\"\n",
    ")\n",
    "fig.show()"
   ]
  },
  {
   "cell_type": "markdown",
   "metadata": {},
   "source": [
    "#### Gráfico de violines: Visualizar los tiempos de vueltas por piloto\n",
    "Gráfico de violines con el que se pretende analizar los tiempos de vueltas por piloto durante la carrera y analizar la consistencia de los mismos. Los puntos que representan cada data también son dibujados en el gráfico para visualizar la distribución de los distintos tiempos."
   ]
  },
  {
   "cell_type": "code",
   "execution_count": null,
   "metadata": {},
   "outputs": [],
   "source": [
    "# Convertir tiempos de vueltas a segundos\n",
    "laps_updated['LapTimeSeconds'] = laps_updated['LapTime'].dt.total_seconds()\n",
    "\n",
    "# Obtener los nombres abreviados de los pilotos ordenados por posición final en formato lista, con el objetivo de dibujar los violines en el mismo orden\n",
    "positions_list = positions['Abbreviation'].to_list()\n",
    "\n",
    "# Gráfico de violines\n",
    "fig = px.violin(\n",
    "    laps_updated,\n",
    "    x='Driver',\n",
    "    y='LapTimeSeconds',\n",
    "    category_orders={'Driver': positions_list}, # Ordenar pilotos en el eje X\n",
    "    box=True,\n",
    "    points=\"all\"\n",
    ")\n",
    "fig.show()"
   ]
  },
  {
   "cell_type": "code",
   "execution_count": null,
   "metadata": {},
   "outputs": [],
   "source": [
    "laps_updated.head(5)"
   ]
  },
  {
   "cell_type": "markdown",
   "metadata": {},
   "source": [
    "#### Gráfico de barras: Tiempo de vuelta rápida\n",
    "En el siguiente gráfico de barras verticales se puede analizar el tiempo de vuelta rápida por cada piloto en segundos. "
   ]
  },
  {
   "cell_type": "code",
   "execution_count": null,
   "metadata": {},
   "outputs": [],
   "source": [
    "# Coger la fila con el tiempo de vuelta en segundos inferior\n",
    "fastest_laps = laps_updated.groupby('Driver')['LapTimeSeconds'].min().reset_index()\n",
    "\n",
    "# Gráfico de barras\n",
    "fig = px.bar(\n",
    "    fastest_laps,\n",
    "    x='Driver',\n",
    "    y='LapTimeSeconds',\n",
    "    color='Driver',\n",
    "    category_orders={'Driver': positions_list}, # Ordenar pilotos en el eje X\n",
    "    title=\"Vueltas Más Rápidas por Piloto\",\n",
    ")\n",
    "# Acotar los valores del eje X\n",
    "fig.update_yaxes(range=[60,110])\n",
    "fig.show()"
   ]
  },
  {
   "cell_type": "markdown",
   "metadata": {},
   "source": [
    "#### Stints\n",
    "En esta sección se pretende hacer una representación del uso que ha hecho cada piloto de los distintos compuestos de neumáticos, así como el número de vueltas realizados en cada stint con un mismo compuesto. Permite hacernos una idea de la estrategia de neumáticos utilizada por cada piloto."
   ]
  },
  {
   "cell_type": "markdown",
   "metadata": {},
   "source": [
    "En primer lugar, se concatena el dataframe stints con el dataframe positions_df. Queremos mostrar la posición de parrilla y la posición final en el hover text de cara barra."
   ]
  },
  {
   "cell_type": "code",
   "execution_count": null,
   "metadata": {},
   "outputs": [],
   "source": [
    "stints.head()"
   ]
  },
  {
   "cell_type": "code",
   "execution_count": null,
   "metadata": {},
   "outputs": [],
   "source": [
    "positions_df.head()"
   ]
  },
  {
   "cell_type": "code",
   "execution_count": null,
   "metadata": {},
   "outputs": [],
   "source": [
    "stints_with_position = pd.merge(stints, positions_df, on=['DriverNumber'], how='left')\n",
    "stints_with_position = stints_with_position.astype({'Position':'int64', 'GridPosition':'int64'})\n",
    "stints_with_position = stints_with_position.sort_values(by=['Position', 'Stint'])\n",
    "stints_with_position.head()"
   ]
  },
  {
   "cell_type": "markdown",
   "metadata": {},
   "source": [
    "Una vez tenemos el conjunto de datos preparado, se procede a crear el gráfico. En el código fuente se han añadido notas para entender cómo se ha implementado."
   ]
  },
  {
   "cell_type": "code",
   "execution_count": null,
   "metadata": {},
   "outputs": [],
   "source": [
    "import plotly.graph_objects as go # Módulo graph objects de Plotly\n",
    "import numpy as np\n",
    "\n",
    "# Crear una figura en Plotly\n",
    "fig = go.Figure()\n",
    "\n",
    "compounds_set = set() # Inicializar set\n",
    "# Iterar por cada piloto\n",
    "for driver in drivers:\n",
    "    # Obtener los stints del piloto\n",
    "    driver_stints = stints_with_position.loc[stints[\"Driver\"] == driver].copy()\n",
    "\n",
    "    # Reemplazar los valores de las columnas Stint y Compound que tienen un valor string 'nan' por el NaN de Numpy\n",
    "    driver_stints[['Stint', 'Compound']] = driver_stints[['Stint', 'Compound']].replace('nan', np.nan)\n",
    "    # Rellenar los posibles valores faltantes por el valor del registro siguiente, que coincidirá en Stint y Compound\n",
    "    driver_stints[['Stint', 'Compound']] = driver_stints[['Stint', 'Compound']].bfill()\n",
    "    \n",
    "    previous_stint_end = 0 # Inicializar variable que permitirá establecer el inicio de la barra en el gráfico para representar los stints\n",
    "    for _, row in driver_stints.iterrows():\n",
    "        # Obtener el color correspondiente al compuesto con la función que ofrece la propia librería\n",
    "        compound_color = fastf1.plotting.get_compound_color(row[\"Compound\"], session=session)\n",
    "        compounds_set.add((row[\"Compound\"],compound_color)) # Añadir una tupla que será el compuesto y su color\n",
    "\n",
    "        # Añadir una barra horizontal para cada stint del piloto\n",
    "        fig.add_trace(go.Bar(\n",
    "            y=[driver],  # Eje Y muestra al piloto\n",
    "            x=[row[\"StintLength\"]],  # Eje X es la duración del stint\n",
    "            base=previous_stint_end,  # El inicio de la barra\n",
    "            orientation='h',  # Barras horizontales\n",
    "            marker=dict(color=compound_color),  # Colores y bordes\n",
    "            name=row[\"Compound\"],  # Nombre del compuesto para el hover y contenido del hover\n",
    "            hovertemplate=(\n",
    "                f\"Piloto: {driver}<br>\" +\n",
    "                f\"Compuesto: {row['Compound']}<br>\" +\n",
    "                f\"Duración del stint: {row['StintLength']} vueltas<br>\" +\n",
    "                f\"Inicia en la vuelta: {previous_stint_end}<br>\"+\n",
    "                f\"Posicion inicial: {row['GridPosition']}<br>\"+\n",
    "                f\"Posicion final: {row['Position']}<br>\"\n",
    "            ),\n",
    "            showlegend=False \n",
    "        ))\n",
    "\n",
    "        previous_stint_end += row[\"StintLength\"] # Actualizar variable con la duración del stint para conocer donde debe empezar la siguiente barra horizontal\n",
    "\n",
    "# Crear la leyenda\n",
    "for compound, color in compounds_set:\n",
    "    fig.add_trace(go.Bar(\n",
    "        y=[None],  # Para no mostrar una barra visible, solo usar la leyenda\n",
    "        x=[0],  # Valor de 0 para que no se dibuje una barra visible\n",
    "        name=compound,  # Nombre de la entrada de la leyenda\n",
    "        marker=dict(color=color),  # El color correspondiente al compuesto\n",
    "        showlegend=True  # Mostrar una entrada en la leyenda para cada compuesto\n",
    "))\n",
    "\n",
    "# Configuración del diseño\n",
    "fig.update_layout(\n",
    "    title=\"2022 Hungarian Grand Prix Strategies\",\n",
    "    height=800,\n",
    "    xaxis_title=\"Lap Number\",\n",
    "    yaxis_title=\"Driver\",\n",
    "    barmode='stack',  # Las barras se apilan horizontalmente\n",
    "    xaxis=dict(showgrid=False, zeroline=False),  # Ocultar líneas de rejilla\n",
    "    yaxis=dict(autorange=\"reversed\")  # Invertir el orden de los pilotos\n",
    ")\n",
    "\n",
    "# Mostrar el gráfico\n",
    "fig.show()\n"
   ]
  },
  {
   "cell_type": "markdown",
   "metadata": {},
   "source": [
    "#### Gráfico de barras: Número de vueltas promedio por compuesto\n",
    "Sección para visualizar mediante un gráfico de barras el número promedio de vueltas realizados por los pilotos de media. El objetivo es tener en el eje X el tipo de compuesto y en el eje Y el número de vueltas promedio por compuesto."
   ]
  },
  {
   "cell_type": "markdown",
   "metadata": {},
   "source": [
    "Contabiliazamos el número de vueltas dado por pilotos por compuesto. Para ello, se genera un nuevo dataframe a partir de la agrupación de los registros, como se puede observar en la siguiente celda."
   ]
  },
  {
   "cell_type": "code",
   "execution_count": null,
   "metadata": {},
   "outputs": [],
   "source": [
    "laps_per_stint_compound = laps_updated.groupby(['Driver', 'Stint', 'Compound'])['LapNumber'].count().reset_index()\n",
    "laps_per_stint_compound.rename({'LapNumber': 'LapCount'}, inplace=True)\n",
    "laps_per_stint_compound.head()"
   ]
  },
  {
   "cell_type": "markdown",
   "metadata": {},
   "source": [
    "Calculamos la media de vueltas por compuesto"
   ]
  },
  {
   "cell_type": "code",
   "execution_count": null,
   "metadata": {},
   "outputs": [],
   "source": [
    "laps_compound_mean_df = laps_per_stint_compound.groupby('Compound')['LapNumber'].mean().reset_index()"
   ]
  },
  {
   "cell_type": "markdown",
   "metadata": {},
   "source": [
    "Utilizamos plotly para generar el gráfico de barras. Cada barra representa un compuesto y se utiliza el color que representa a cada compuesto, obtenido con anterioridad de la librería."
   ]
  },
  {
   "cell_type": "code",
   "execution_count": null,
   "metadata": {},
   "outputs": [],
   "source": [
    "\n",
    "fig = px.bar(\n",
    "    laps_compound_mean_df,\n",
    "    x='Compound',\n",
    "    y='LapNumber',\n",
    "    color='Compound',\n",
    "    title=f'Número de vueltas por compuesto y stint',\n",
    "    labels={'LapCount': 'Número de vueltas', 'Compound': 'Compuesto', 'Stint': 'Tanda'},\n",
    "    color_discrete_map=compound_colors\n",
    ")\n",
    "\n",
    "fig.show()"
   ]
  }
 ],
 "metadata": {
  "kernelspec": {
   "display_name": ".env",
   "language": "python",
   "name": "python3"
  },
  "language_info": {
   "codemirror_mode": {
    "name": "ipython",
    "version": 3
   },
   "file_extension": ".py",
   "mimetype": "text/x-python",
   "name": "python",
   "nbconvert_exporter": "python",
   "pygments_lexer": "ipython3",
   "version": "3.12.4"
  }
 },
 "nbformat": 4,
 "nbformat_minor": 2
}
