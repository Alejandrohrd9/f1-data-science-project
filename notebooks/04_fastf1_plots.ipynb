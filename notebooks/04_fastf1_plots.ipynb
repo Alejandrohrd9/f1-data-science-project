{
 "cells": [
  {
   "cell_type": "code",
   "execution_count": null,
   "metadata": {},
   "outputs": [],
   "source": [
    "import requests\n",
    "import csv\n",
    "import pandas as pd\n",
    "import json\n",
    "import ast\n",
    "import fastf1\n",
    "import fastf1.plotting"
   ]
  },
  {
   "cell_type": "code",
   "execution_count": null,
   "metadata": {},
   "outputs": [],
   "source": [
    "rounds_df = pd.read_csv('../data/cleaned_circuits_2000-2024.csv')\n",
    "rounds_from_2018_df = rounds_df[rounds_df['season'] >= 2024]\n",
    "laps_list = []\n",
    "drivers_list = []\n",
    "results_list = []\n",
    "\n",
    "for _, row in rounds_from_2018_df.iterrows():\n",
    "    season = row['season']\n",
    "    round_name = row['round']\n",
    "\n",
    "    session = fastf1.get_session(season, round_name, 'R')\n",
    "    session.load()\n",
    "\n",
    "    laps = session.laps.copy()\n",
    "    laps['Season'] = season\n",
    "    laps['Round'] = round_name\n",
    "    laps_list.append(laps)\n",
    "\n",
    "    # drivers = pd.DataFrame.from_dict(session.drivers, orient='index').copy()\n",
    "    # drivers['Season'] = season\n",
    "    # drivers['Round'] = round_name\n",
    "    # drivers_list.append(drivers)\n",
    "\n",
    "    results = session.results\n",
    "    results['Season'] = season\n",
    "    results['Round'] = round_name\n",
    "    results_list.append(results)\n",
    "\n",
    "laps_df = pd.concat(laps_data, ignore_index=True) if laps_data else pd.DataFrame()\n",
    "# drivers_df = pd.concat(drivers_data, ignore_index=True) if drivers_data else pd.DataFrame()\n",
    "results_df = pd.concat(results_data, ignore_index=True) if results_data else pd.DataFrame()\n"
   ]
  },
  {
   "cell_type": "code",
   "execution_count": null,
   "metadata": {},
   "outputs": [],
   "source": [
    "circuits_data = pd.read_csv('../data/cleaned_circuits_2000-2024.csv')"
   ]
  },
  {
   "cell_type": "code",
   "execution_count": null,
   "metadata": {},
   "outputs": [],
   "source": [
    "races = circuits_data[circuits_data['season'] == 2024]"
   ]
  },
  {
   "cell_type": "code",
   "execution_count": null,
   "metadata": {},
   "outputs": [],
   "source": [
    "races.tail()"
   ]
  },
  {
   "cell_type": "markdown",
   "metadata": {},
   "source": [
    "### Tyres - Stint"
   ]
  },
  {
   "cell_type": "code",
   "execution_count": null,
   "metadata": {},
   "outputs": [],
   "source": [
    "# fastf1.Cache.enable_cache('../cache') \n",
    "\n",
    "session = fastf1.get_session(2022, 'Hungary', 'R')\n",
    "session.load()\n",
    "laps = session.laps\n",
    "\n",
    "drivers = session.drivers\n",
    "\n",
    "drivers = [session.get_driver(driver)[\"Abbreviation\"] for driver in drivers]\n",
    "\n",
    "results = session.results\n",
    "positions = results[[\"DriverNumber\", \"Abbreviation\", \"GridPosition\", \"Position\"]]\n",
    "positions_list = positions['Abbreviation'].to_list()\n",
    "\n",
    "stints = laps[[\"Driver\", \"DriverNumber\", \"Stint\", \"Compound\", \"LapNumber\"]]\n",
    "stints = stints.groupby([\"Driver\", \"DriverNumber\", \"Stint\", \"Compound\"])\n",
    "stints = stints.count().reset_index()\n",
    "\n",
    "stints = stints.rename(columns={\"LapNumber\": \"StintLength\"})\n"
   ]
  },
  {
   "cell_type": "code",
   "execution_count": null,
   "metadata": {},
   "outputs": [],
   "source": [
    "print(session.drivers)"
   ]
  },
  {
   "cell_type": "code",
   "execution_count": null,
   "metadata": {},
   "outputs": [],
   "source": [
    "stints.head()"
   ]
  },
  {
   "cell_type": "code",
   "execution_count": null,
   "metadata": {},
   "outputs": [],
   "source": [
    "laps.head()"
   ]
  },
  {
   "cell_type": "code",
   "execution_count": null,
   "metadata": {},
   "outputs": [],
   "source": [
    "laps.tail()"
   ]
  },
  {
   "cell_type": "code",
   "execution_count": null,
   "metadata": {},
   "outputs": [],
   "source": [
    "laps_updated = laps.drop(columns=['Time', 'PitOutTime', 'PitInTime', 'FastF1Generated', 'FreshTyre', 'IsAccurate', 'Deleted', 'DeletedReason'], axis=1)"
   ]
  },
  {
   "cell_type": "code",
   "execution_count": null,
   "metadata": {},
   "outputs": [],
   "source": [
    "laps_updated.head()"
   ]
  },
  {
   "cell_type": "code",
   "execution_count": null,
   "metadata": {},
   "outputs": [],
   "source": [
    "sorted_positions = laps_updated.sort_values(by='Position', ascending=True)\n",
    "sorted_positions.head()"
   ]
  },
  {
   "cell_type": "code",
   "execution_count": null,
   "metadata": {},
   "outputs": [],
   "source": [
    "import plotly.express as px\n",
    "\n",
    "# Plotting using Plotly Express\n",
    "fig = px.line(laps_updated, \n",
    "            x='LapNumber', \n",
    "            y='Position', \n",
    "            color='Driver', \n",
    "            markers=True)\n",
    "            \n",
    "fig.update_layout(\n",
    "    yaxis=dict(autorange=\"reversed\")  # Invertir el orden del eje Y\n",
    ")\n",
    "# Mostrar el gráfico\n",
    "fig.show()\n"
   ]
  },
  {
   "cell_type": "code",
   "execution_count": null,
   "metadata": {},
   "outputs": [],
   "source": [
    "positions.head()"
   ]
  },
  {
   "cell_type": "code",
   "execution_count": null,
   "metadata": {},
   "outputs": [],
   "source": [
    "positions['PositionChange'] = positions['GridPosition'] - positions['Position']\n",
    "positions.head()"
   ]
  },
  {
   "cell_type": "code",
   "execution_count": null,
   "metadata": {},
   "outputs": [],
   "source": []
  },
  {
   "cell_type": "code",
   "execution_count": null,
   "metadata": {},
   "outputs": [],
   "source": [
    "position_changes = positions.groupby(['DriverNumber', 'Abbreviation'])['PositionChange'].mean().reset_index()\n",
    "\n",
    "fig = px.bar(\n",
    "    position_changes,\n",
    "    x='PositionChange',\n",
    "    y='Abbreviation',\n",
    "    color='PositionChange',\n",
    "    orientation='h',\n",
    "    title=\"Ganancia o Pérdida de Posiciones por Piloto\"\n",
    ")\n",
    "fig.show()"
   ]
  },
  {
   "cell_type": "code",
   "execution_count": null,
   "metadata": {},
   "outputs": [],
   "source": [
    "# Lap times\n",
    "laps_updated.head()\n",
    "laps_updated['LapTimeSeconds'] = laps_updated['LapTime'].dt.total_seconds()\n",
    "\n",
    "positions_list = positions['Abbreviation'].to_list()\n",
    "\n",
    "fig = px.violin(\n",
    "    laps_updated,\n",
    "    x='Driver',\n",
    "    y='LapTimeSeconds',\n",
    "    category_orders={'Driver': positions_list},\n",
    "    box=True,\n",
    "    points=\"all\"\n",
    ")\n",
    "fig.show()"
   ]
  },
  {
   "cell_type": "code",
   "execution_count": null,
   "metadata": {},
   "outputs": [],
   "source": [
    "laps_updated.head(5)"
   ]
  },
  {
   "cell_type": "markdown",
   "metadata": {},
   "source": [
    "#### Fastest laps\n"
   ]
  },
  {
   "cell_type": "code",
   "execution_count": null,
   "metadata": {},
   "outputs": [],
   "source": [
    "\n",
    "fastest_laps = laps_updated.groupby('Driver')['LapTimeSeconds'].min().reset_index()\n",
    "fig = px.bar(\n",
    "    fastest_laps,\n",
    "    x='Driver',\n",
    "    y='LapTimeSeconds',\n",
    "    color='Driver',\n",
    "    category_orders={'Driver': positions_list},\n",
    "    title=\"Vueltas Más Rápidas por Piloto\",\n",
    ")\n",
    "fig.update_yaxes(range=[60,110])\n",
    "fig.show()"
   ]
  },
  {
   "cell_type": "markdown",
   "metadata": {},
   "source": [
    "## Compuestos"
   ]
  },
  {
   "cell_type": "markdown",
   "metadata": {},
   "source": [
    "#### Stints"
   ]
  },
  {
   "cell_type": "code",
   "execution_count": null,
   "metadata": {},
   "outputs": [],
   "source": [
    "stints_with_position = pd.merge(stints, positions, on=['DriverNumber'], how='left')\n",
    "stints_with_position = stints_with_position.astype({'Position':'int64', 'GridPosition':'int64'})\n",
    "stints_with_position = stints_with_position.sort_values(by=['Position', 'Stint'])\n",
    "stints_with_position.head()"
   ]
  },
  {
   "cell_type": "code",
   "execution_count": null,
   "metadata": {},
   "outputs": [],
   "source": [
    "import plotly.graph_objects as go\n",
    "import numpy as np\n",
    "# Crear una figura en Plotly\n",
    "fig = go.Figure()\n",
    "\n",
    "compounds_set = set()\n",
    "# Iterar por cada piloto\n",
    "for driver in drivers:\n",
    "\n",
    "    driver_stints = stints_with_position.loc[stints[\"Driver\"] == driver].copy()\n",
    "\n",
    "    driver_stints[['Stint', 'Compound']] = driver_stints[['Stint', 'Compound']].replace('nan', np.nan)\n",
    "    driver_stints[['Stint', 'Compound']] = driver_stints[['Stint', 'Compound']].bfill()\n",
    "    \n",
    "    previous_stint_end = 0\n",
    "    for _, row in driver_stints.iterrows():\n",
    "        # Obtener el color correspondiente al compuesto\n",
    "        compound_color = fastf1.plotting.get_compound_color(row[\"Compound\"], session=session)\n",
    "        compounds_set.add((row[\"Compound\"],compound_color))\n",
    "\n",
    "        # Añadir una barra horizontal para cada stint del piloto\n",
    "        fig.add_trace(go.Bar(\n",
    "            y=[driver],  # Eje Y muestra al piloto\n",
    "            x=[row[\"StintLength\"]],  # Eje X es la duración del stint\n",
    "            base=previous_stint_end,  # El inicio de la barra\n",
    "            orientation='h',  # Barras horizontales\n",
    "            marker=dict(color=compound_color),  # Colores y bordes\n",
    "            name=row[\"Compound\"],  # Nombre del compuesto para el hover,\n",
    "            hovertemplate=(\n",
    "                f\"Piloto: {driver}<br>\" +\n",
    "                f\"Compuesto: {row['Compound']}<br>\" +\n",
    "                f\"Duración del stint: {row['StintLength']} vueltas<br>\" +\n",
    "                f\"Inicia en la vuelta: {previous_stint_end}<br>\"+\n",
    "                f\"Posicion inicial: {row['GridPosition']}<br>\"+\n",
    "                f\"Posicion final: {row['Position']}<br>\"\n",
    "            ),\n",
    "            showlegend=False \n",
    "        ))\n",
    "\n",
    "        previous_stint_end += row[\"StintLength\"]\n",
    "    \n",
    "for compound, color in compounds_set:\n",
    "    fig.add_trace(go.Bar(\n",
    "        y=[None],  # Para no mostrar una barra visible, solo usar la leyenda\n",
    "        x=[0],  # Valor de 0 para que no se dibuje una barra visible\n",
    "        name=compound,  # Nombre de la entrada de la leyenda\n",
    "        marker=dict(color=color),  # El color correspondiente al compuesto\n",
    "        showlegend=True  # Mostrar una entrada en la leyenda para cada compuesto\n",
    "))\n",
    "\n",
    "# Configuración del diseño\n",
    "fig.update_layout(\n",
    "    title=\"2022 Hungarian Grand Prix Strategies\",\n",
    "    height=800,\n",
    "    xaxis_title=\"Lap Number\",\n",
    "    yaxis_title=\"Driver\",\n",
    "    barmode='stack',  # Las barras se apilan horizontalmente\n",
    "    xaxis=dict(showgrid=False, zeroline=False),  # Ocultar líneas de rejilla\n",
    "    yaxis=dict(autorange=\"reversed\"),  # Invertir el orden de los pilotos\n",
    "    template='plotly_white'  # Tema blanco limpio\n",
    ")\n",
    "\n",
    "# Mostrar el gráfico\n",
    "fig.show()\n"
   ]
  },
  {
   "cell_type": "markdown",
   "metadata": {},
   "source": [
    "#### Tiempo promedio de vuelta por compuesto"
   ]
  },
  {
   "cell_type": "code",
   "execution_count": null,
   "metadata": {},
   "outputs": [],
   "source": [
    "compound_colors = {compound: color for compound, color in compounds_set}\n"
   ]
  },
  {
   "cell_type": "code",
   "execution_count": null,
   "metadata": {},
   "outputs": [],
   "source": [
    "compound_df = laps_updated.groupby('Compound')['LapTimeSeconds'].mean().reset_index()\n",
    "compound_df.head()"
   ]
  },
  {
   "cell_type": "code",
   "execution_count": null,
   "metadata": {},
   "outputs": [],
   "source": [
    "\n",
    "fig = px.bar(\n",
    "    compound_df,\n",
    "    x='Compound',\n",
    "    y='LapTimeSeconds',\n",
    "    color='Compound',\n",
    "    title=f'Tiempos promedio de vuelta por compuesto',\n",
    "    labels={'LapTimeSeconds': 'Tiempo promedio (s)', 'Compound': 'Compuesto'},\n",
    "    color_discrete_map=compound_colors\n",
    ")\n",
    "\n",
    "fig.update_layout(showlegend=False)\n",
    "fig.show()"
   ]
  },
  {
   "cell_type": "markdown",
   "metadata": {},
   "source": [
    "#### Número de vueltas promedio por compuesto"
   ]
  },
  {
   "cell_type": "code",
   "execution_count": null,
   "metadata": {},
   "outputs": [],
   "source": [
    "laps_per_stint_compound = laps_updated.groupby(['Driver', 'Stint', 'Compound'])['LapNumber'].count().reset_index()\n",
    "laps_per_stint_compound.rename({'LapNumber': 'LapCount'}, inplace=True)\n",
    "laps_per_stint_compound.head()"
   ]
  },
  {
   "cell_type": "code",
   "execution_count": null,
   "metadata": {},
   "outputs": [],
   "source": [
    "laps_compound_mean_df = laps_per_stint_compound.groupby('Compound')['LapNumber'].mean().reset_index()"
   ]
  },
  {
   "cell_type": "code",
   "execution_count": null,
   "metadata": {},
   "outputs": [],
   "source": [
    "\n",
    "fig = px.bar(\n",
    "    laps_compound_mean_df,\n",
    "    x='Compound',\n",
    "    y='LapNumber',\n",
    "    color='Compound',\n",
    "    title=f'Número de vueltas por compuesto y stint',\n",
    "    labels={'LapCount': 'Número de vueltas', 'Compound': 'Compuesto', 'Stint': 'Tanda'},\n",
    "    color_discrete_map=compound_colors\n",
    ")\n",
    "\n",
    "fig.show()"
   ]
  },
  {
   "cell_type": "code",
   "execution_count": null,
   "metadata": {},
   "outputs": [],
   "source": [
    "### Laps x Compound\n",
    "fig = px.scatter(\n",
    "    laps_updated,\n",
    "    x='Compound',\n",
    "    y='LapTimeSeconds',\n",
    "    color='Compound',\n",
    "    title=\"Consistencia de Tiempos por Vuelta considerando el compuesto\",\n",
    "    labels={\"LapNumber\": \"Número de Vuelta\", \"LapTimeSeconds\": \"Tiempo por Vuelta (segundos)\"},\n",
    "    color_discrete_map=compound_colors\n",
    ")\n",
    "\n",
    "fig.show()"
   ]
  },
  {
   "cell_type": "markdown",
   "metadata": {},
   "source": [
    "#### Tiempo promedio de vueltas por stint"
   ]
  },
  {
   "cell_type": "code",
   "execution_count": null,
   "metadata": {},
   "outputs": [],
   "source": [
    "stint_mean = laps_updated.groupby(['Driver', 'Stint', 'Compound'])['LapTimeSeconds'].mean().reset_index()\n",
    "fig = px.bar(\n",
    "    stint_mean,\n",
    "    x='Driver',\n",
    "    y='LapTimeSeconds',\n",
    "    color='Stint',\n",
    "    title='Promedio de tiempos por stint y piloto',\n",
    "    labels={'LapTimeSeconds': 'Tiempo promedio (s)', 'Stint': 'Stint'},\n",
    "    barmode='group',\n",
    "    hover_data=['Compound'],\n",
    "    category_orders={'Driver': positions_list},  # Ordenar por posiciones finales\n",
    ")\n",
    "fig.update_layout(\n",
    "    height= 700\n",
    ")\n",
    "fig.show()"
   ]
  },
  {
   "cell_type": "code",
   "execution_count": null,
   "metadata": {},
   "outputs": [],
   "source": []
  }
 ],
 "metadata": {
  "kernelspec": {
   "display_name": ".env",
   "language": "python",
   "name": "python3"
  },
  "language_info": {
   "codemirror_mode": {
    "name": "ipython",
    "version": 3
   },
   "file_extension": ".py",
   "mimetype": "text/x-python",
   "name": "python",
   "nbconvert_exporter": "python",
   "pygments_lexer": "ipython3",
   "version": "3.12.4"
  }
 },
 "nbformat": 4,
 "nbformat_minor": 2
}
