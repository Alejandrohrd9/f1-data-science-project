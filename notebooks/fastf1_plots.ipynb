{
 "cells": [
  {
   "cell_type": "code",
   "execution_count": null,
   "metadata": {},
   "outputs": [],
   "source": [
    "import requests\n",
    "import csv\n",
    "import pandas as pd\n",
    "import json\n",
    "import ast"
   ]
  },
  {
   "cell_type": "markdown",
   "metadata": {},
   "source": [
    "### Tyres - Stint"
   ]
  },
  {
   "cell_type": "code",
   "execution_count": null,
   "metadata": {},
   "outputs": [],
   "source": [
    "from matplotlib import pyplot as plt\n",
    "\n",
    "import fastf1\n",
    "import fastf1.plotting\n",
    "\n",
    "\n",
    "session = fastf1.get_session(2022, 'Hungary', 'R')\n",
    "session.load()\n",
    "laps = session.laps\n",
    "\n",
    "drivers = session.drivers\n",
    "\n",
    "drivers = [session.get_driver(driver)[\"Abbreviation\"] for driver in drivers]\n",
    "\n",
    "results = session.results\n",
    "positions = results[[\"DriverNumber\", \"GridPosition\", \"Position\"]]\n",
    "\n",
    "stints = laps[[\"Driver\", \"DriverNumber\", \"Stint\", \"Compound\", \"LapNumber\"]]\n",
    "stints = stints.groupby([\"Driver\", \"DriverNumber\", \"Stint\", \"Compound\"])\n",
    "stints = stints.count().reset_index()\n",
    "\n",
    "stints = stints.rename(columns={\"LapNumber\": \"StintLength\"})\n"
   ]
  },
  {
   "cell_type": "code",
   "execution_count": null,
   "metadata": {},
   "outputs": [],
   "source": [
    "stints_with_position = pd.merge(stints, positions, on=['DriverNumber'], how='left')\n",
    "stints_with_position = stints_with_position.astype({'Position':'int64', 'GridPosition':'int64'})\n",
    "stints_with_position = stints_with_position.sort_values(by=['Position', 'Stint'])\n",
    "stints_with_position.head()"
   ]
  },
  {
   "cell_type": "code",
   "execution_count": null,
   "metadata": {},
   "outputs": [],
   "source": [
    "import plotly.graph_objects as go\n",
    "import numpy as np\n",
    "# Crear una figura en Plotly\n",
    "fig = go.Figure()\n",
    "\n",
    "compounds_set = set()\n",
    "# Iterar por cada piloto\n",
    "for driver in drivers:\n",
    "\n",
    "    driver_stints = stints_with_position.loc[stints[\"Driver\"] == driver].copy()\n",
    "\n",
    "    driver_stints[['Stint', 'Compound']] = driver_stints[['Stint', 'Compound']].replace('nan', np.nan)\n",
    "    driver_stints[['Stint', 'Compound']] = driver_stints[['Stint', 'Compound']].bfill()\n",
    "    \n",
    "    previous_stint_end = 0\n",
    "    for _, row in driver_stints.iterrows():\n",
    "        # Obtener el color correspondiente al compuesto\n",
    "        compound_color = fastf1.plotting.get_compound_color(row[\"Compound\"], session=session)\n",
    "        compounds_set.add((row[\"Compound\"],compound_color))\n",
    "\n",
    "        # Añadir una barra horizontal para cada stint del piloto\n",
    "        fig.add_trace(go.Bar(\n",
    "            y=[driver],  # Eje Y muestra al piloto\n",
    "            x=[row[\"StintLength\"]],  # Eje X es la duración del stint\n",
    "            base=previous_stint_end,  # El inicio de la barra\n",
    "            orientation='h',  # Barras horizontales\n",
    "            marker=dict(color=compound_color),  # Colores y bordes\n",
    "            name=row[\"Compound\"],  # Nombre del compuesto para el hover,\n",
    "            hovertemplate=(\n",
    "                f\"Piloto: {driver}<br>\" +\n",
    "                f\"Compuesto: {row['Compound']}<br>\" +\n",
    "                f\"Duración del stint: {row['StintLength']} vueltas<br>\" +\n",
    "                f\"Inicia en la vuelta: {previous_stint_end}<br>\"+\n",
    "                f\"Posicion inicial: {row['GridPosition']}<br>\"+\n",
    "                f\"Posicion final: {row['Position']}<br>\"\n",
    "            ),\n",
    "            showlegend=False \n",
    "        ))\n",
    "\n",
    "        previous_stint_end += row[\"StintLength\"]\n",
    "    \n",
    "for compound, color in compounds_set:\n",
    "    fig.add_trace(go.Bar(\n",
    "        y=[None],  # Para no mostrar una barra visible, solo usar la leyenda\n",
    "        x=[0],  # Valor de 0 para que no se dibuje una barra visible\n",
    "        name=compound,  # Nombre de la entrada de la leyenda\n",
    "        marker=dict(color=color),  # El color correspondiente al compuesto\n",
    "        showlegend=True  # Mostrar una entrada en la leyenda para cada compuesto\n",
    "))\n",
    "\n",
    "# Configuración del diseño\n",
    "fig.update_layout(\n",
    "    title=\"2022 Hungarian Grand Prix Strategies\",\n",
    "    height=800,\n",
    "    xaxis_title=\"Lap Number\",\n",
    "    yaxis_title=\"Driver\",\n",
    "    barmode='stack',  # Las barras se apilan horizontalmente\n",
    "    xaxis=dict(showgrid=False, zeroline=False),  # Ocultar líneas de rejilla\n",
    "    yaxis=dict(autorange=\"reversed\"),  # Invertir el orden de los pilotos\n",
    "    template='plotly_white'  # Tema blanco limpio\n",
    ")\n",
    "\n",
    "# Mostrar el gráfico\n",
    "fig.show()\n"
   ]
  },
  {
   "cell_type": "code",
   "execution_count": null,
   "metadata": {},
   "outputs": [],
   "source": [
    "laps.tail()"
   ]
  },
  {
   "cell_type": "code",
   "execution_count": null,
   "metadata": {},
   "outputs": [],
   "source": [
    "laps_updated = laps.drop(columns=['Time', 'PitOutTime', 'PitInTime', 'FastF1Generated', 'FreshTyre', 'IsAccurate', 'Deleted', 'DeletedReason'], axis=1)"
   ]
  },
  {
   "cell_type": "code",
   "execution_count": null,
   "metadata": {},
   "outputs": [],
   "source": [
    "import plotly.express as px\n",
    "\n",
    "# Plotting using Plotly Express\n",
    "fig = px.line(laps_updated, \n",
    "            x='LapNumber', \n",
    "            y='Position', \n",
    "            color='Driver', \n",
    "            markers=True)\n",
    "\n",
    "# Mostrar el gráfico\n",
    "fig.show()\n"
   ]
  }
 ],
 "metadata": {
  "kernelspec": {
   "display_name": ".env",
   "language": "python",
   "name": "python3"
  },
  "language_info": {
   "codemirror_mode": {
    "name": "ipython",
    "version": 3
   },
   "file_extension": ".py",
   "mimetype": "text/x-python",
   "name": "python",
   "nbconvert_exporter": "python",
   "pygments_lexer": "ipython3",
   "version": "3.12.4"
  }
 },
 "nbformat": 4,
 "nbformat_minor": 2
}
